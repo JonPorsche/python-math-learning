{
 "cells": [
  {
   "cell_type": "code",
   "execution_count": 3,
   "id": "870055e6",
   "metadata": {},
   "outputs": [],
   "source": [
    "import numpy as np\n",
    "import scipy as sp\n",
    "import sympy as smp\n",
    "import matplotlib.pyplot as plt\n",
    "from scipy.integrate import quad\n",
    "from scipy.integrate import cumulative_trapezoid"
   ]
  },
  {
   "cell_type": "markdown",
   "id": "fd81e941",
   "metadata": {},
   "source": [
    "# Solvable Integrals\n",
    "## Example 1\n",
    "$$\\int \\sin^3(x) \\mathrm e^{-5x} \\mathrm dx$$"
   ]
  },
  {
   "cell_type": "code",
   "execution_count": 9,
   "id": "076d8464",
   "metadata": {},
   "outputs": [],
   "source": [
    "x = smp.symbols('x', real=True)\n",
    "f = smp.sin(x)**3 * smp.exp(-5*x)"
   ]
  },
  {
   "cell_type": "code",
   "execution_count": 11,
   "id": "35cd0730",
   "metadata": {
    "scrolled": false
   },
   "outputs": [
    {
     "data": {
      "text/latex": [
       "$\\displaystyle - \\frac{40 e^{- 5 x} \\sin^{3}{\\left(x \\right)}}{221} - \\frac{21 e^{- 5 x} \\sin^{2}{\\left(x \\right)} \\cos{\\left(x \\right)}}{221} - \\frac{15 e^{- 5 x} \\sin{\\left(x \\right)} \\cos^{2}{\\left(x \\right)}}{442} - \\frac{3 e^{- 5 x} \\cos^{3}{\\left(x \\right)}}{442}$"
      ],
      "text/plain": [
       "-40*exp(-5*x)*sin(x)**3/221 - 21*exp(-5*x)*sin(x)**2*cos(x)/221 - 15*exp(-5*x)*sin(x)*cos(x)**2/442 - 3*exp(-5*x)*cos(x)**3/442"
      ]
     },
     "execution_count": 11,
     "metadata": {},
     "output_type": "execute_result"
    }
   ],
   "source": [
    "smp.integrate(f, x)"
   ]
  },
  {
   "cell_type": "markdown",
   "id": "8fafb42e",
   "metadata": {},
   "source": [
    "## Example 2\n",
    "$$\\int \\cos(bx)\\mathrm e^{-ax}\\mathrm dx$$"
   ]
  },
  {
   "cell_type": "code",
   "execution_count": 6,
   "id": "2f4c9003",
   "metadata": {},
   "outputs": [],
   "source": [
    "a, b = smp.symbols('a b', real=True, positive=True)\n",
    "f = smp.cos(b*x)* smp.exp(-a*x)"
   ]
  },
  {
   "cell_type": "code",
   "execution_count": 7,
   "id": "523e6ea8",
   "metadata": {},
   "outputs": [
    {
     "data": {
      "text/latex": [
       "$\\displaystyle \\frac{\\left(- a \\cos{\\left(b x \\right)} + b \\sin{\\left(b x \\right)}\\right) e^{- a x}}{a^{2} + b^{2}}$"
      ],
      "text/plain": [
       "(-a*cos(b*x) + b*sin(b*x))*exp(-a*x)/(a**2 + b**2)"
      ]
     },
     "execution_count": 7,
     "metadata": {},
     "output_type": "execute_result"
    }
   ],
   "source": [
    "smp.integrate(f, x).simplify()"
   ]
  },
  {
   "cell_type": "markdown",
   "id": "d32e030d",
   "metadata": {},
   "source": [
    "## Example 3\n",
    "$$\\int \\frac{(1+ \\sqrt{x})^{\\frac{1}{3}}}{\\sqrt{x}}\\mathrm dx$$"
   ]
  },
  {
   "cell_type": "code",
   "execution_count": 13,
   "id": "8ba21de5",
   "metadata": {},
   "outputs": [
    {
     "data": {
      "text/latex": [
       "$\\displaystyle \\frac{3 \\left(\\sqrt{x} + 1\\right)^{\\frac{4}{3}}}{2}$"
      ],
      "text/plain": [
       "3*(sqrt(x) + 1)**(4/3)/2"
      ]
     },
     "execution_count": 13,
     "metadata": {},
     "output_type": "execute_result"
    }
   ],
   "source": [
    "f = (1+smp.sqrt(x))**smp.Rational(1,3) / smp.sqrt(x)\n",
    "smp.integrate(f, x).simplify()"
   ]
  },
  {
   "cell_type": "markdown",
   "id": "feee0e00",
   "metadata": {},
   "source": [
    "## Example 4 - Bestimmtes Integral\n",
    "$$\\int \\limits_0^{\\ln(4)}\\frac{\\mathrm e^x}{\\sqrt{\\mathrm e^{2x}+9}}\\mathrm dx$$"
   ]
  },
  {
   "cell_type": "code",
   "execution_count": 15,
   "id": "ab21e242",
   "metadata": {},
   "outputs": [
    {
     "data": {
      "text/latex": [
       "$\\displaystyle 0.771162138430851$"
      ],
      "text/plain": [
       "0.771162138430851"
      ]
     },
     "execution_count": 15,
     "metadata": {},
     "output_type": "execute_result"
    }
   ],
   "source": [
    "f = smp.exp(x) / smp.sqrt(smp.exp(2*x) + 9)\n",
    "smp.integrate(f, (x, 0, smp.log(4))).evalf()"
   ]
  },
  {
   "cell_type": "markdown",
   "id": "d0c5ba85",
   "metadata": {},
   "source": [
    "## Example 5 - Unbestimmtes Integral\n",
    "$$\\int \\limits_0^\\infty \\frac{16 \\tan^{-1}(x)}{1+x^2}\\mathrm dx$$"
   ]
  },
  {
   "cell_type": "code",
   "execution_count": 16,
   "id": "b440030b",
   "metadata": {},
   "outputs": [
    {
     "data": {
      "text/latex": [
       "$\\displaystyle 2 \\pi^{2}$"
      ],
      "text/plain": [
       "2*pi**2"
      ]
     },
     "execution_count": 16,
     "metadata": {},
     "output_type": "execute_result"
    }
   ],
   "source": [
    "f = 16*smp.atan(x) / (1+x**2)\n",
    "smp.integrate(f, (x, 0, smp.oo))"
   ]
  },
  {
   "cell_type": "code",
   "execution_count": null,
   "id": "3333932b",
   "metadata": {},
   "outputs": [],
   "source": []
  }
 ],
 "metadata": {
  "kernelspec": {
   "display_name": "Python 3 (ipykernel)",
   "language": "python",
   "name": "python3"
  },
  "language_info": {
   "codemirror_mode": {
    "name": "ipython",
    "version": 3
   },
   "file_extension": ".py",
   "mimetype": "text/x-python",
   "name": "python",
   "nbconvert_exporter": "python",
   "pygments_lexer": "ipython3",
   "version": "3.9.13"
  },
  "vscode": {
   "interpreter": {
    "hash": "aee8b7b246df8f9039afb4144a1f6fd8d2ca17a180786b69acc140d282b71a49"
   }
  }
 },
 "nbformat": 4,
 "nbformat_minor": 5
}
