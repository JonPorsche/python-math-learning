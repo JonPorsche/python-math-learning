{
 "cells": [
  {
   "cell_type": "code",
   "execution_count": 1,
   "id": "870055e6",
   "metadata": {},
   "outputs": [],
   "source": [
    "import numpy as np\n",
    "import scipy as sp\n",
    "import sympy as smp\n",
    "import matplotlib.pyplot as plt\n",
    "from scipy.integrate import quad\n",
    "from scipy.integrate import cumulative_trapezoid"
   ]
  },
  {
   "cell_type": "markdown",
   "id": "fd81e941",
   "metadata": {},
   "source": [
    "# Solvable Integrals\n",
    "## Example 1\n",
    "$$\\int \\sin^3(x) \\mathrm e^{-5x} \\mathrm dx$$"
   ]
  },
  {
   "cell_type": "code",
   "execution_count": 9,
   "id": "076d8464",
   "metadata": {},
   "outputs": [],
   "source": [
    "x = smp.symbols('x', real=True)\n",
    "f = smp.sin(x)**3 * smp.exp(-5*x)"
   ]
  },
  {
   "cell_type": "code",
   "execution_count": null,
   "id": "35cd0730",
   "metadata": {
    "scrolled": false,
    "pycharm": {
     "is_executing": true
    }
   },
   "outputs": [],
   "source": [
    "smp.integrate(f, x)"
   ]
  },
  {
   "cell_type": "markdown",
   "id": "8fafb42e",
   "metadata": {},
   "source": [
    "## Example 2\n",
    "$$\\int \\cos(bx)\\mathrm e^{-ax}\\mathrm dx$$"
   ]
  },
  {
   "cell_type": "code",
   "execution_count": 6,
   "id": "2f4c9003",
   "metadata": {},
   "outputs": [],
   "source": [
    "a, b = smp.symbols('a b', real=True, positive=True)\n",
    "f = smp.cos(b*x)* smp.exp(-a*x)"
   ]
  },
  {
   "cell_type": "code",
   "execution_count": 7,
   "id": "523e6ea8",
   "metadata": {},
   "outputs": [
    {
     "data": {
      "text/latex": [
       "$\\displaystyle \\frac{\\left(- a \\cos{\\left(b x \\right)} + b \\sin{\\left(b x \\right)}\\right) e^{- a x}}{a^{2} + b^{2}}$"
      ],
      "text/plain": [
       "(-a*cos(b*x) + b*sin(b*x))*exp(-a*x)/(a**2 + b**2)"
      ]
     },
     "execution_count": 7,
     "metadata": {},
     "output_type": "execute_result"
    }
   ],
   "source": [
    "smp.integrate(f, x).simplify()"
   ]
  },
  {
   "cell_type": "markdown",
   "id": "d32e030d",
   "metadata": {},
   "source": [
    "## Example 3\n",
    "$$\\int \\frac{(1+ \\sqrt{x})^{\\frac{1}{3}}}{\\sqrt{x}}\\mathrm dx$$"
   ]
  },
  {
   "cell_type": "code",
   "execution_count": 13,
   "id": "8ba21de5",
   "metadata": {},
   "outputs": [
    {
     "data": {
      "text/latex": [
       "$\\displaystyle \\frac{3 \\left(\\sqrt{x} + 1\\right)^{\\frac{4}{3}}}{2}$"
      ],
      "text/plain": [
       "3*(sqrt(x) + 1)**(4/3)/2"
      ]
     },
     "execution_count": 13,
     "metadata": {},
     "output_type": "execute_result"
    }
   ],
   "source": [
    "f = (1+smp.sqrt(x))**smp.Rational(1,3) / smp.sqrt(x)\n",
    "smp.integrate(f, x).simplify()"
   ]
  },
  {
   "cell_type": "markdown",
   "id": "feee0e00",
   "metadata": {},
   "source": [
    "## Example 4 - Bestimmtes Integral\n",
    "$$\\int \\limits_0^{\\ln(4)}\\frac{\\mathrm e^x}{\\sqrt{\\mathrm e^{2x}+9}}\\mathrm dx$$"
   ]
  },
  {
   "cell_type": "code",
   "execution_count": 15,
   "id": "ab21e242",
   "metadata": {},
   "outputs": [
    {
     "data": {
      "text/latex": [
       "$\\displaystyle 0.771162138430851$"
      ],
      "text/plain": [
       "0.771162138430851"
      ]
     },
     "execution_count": 15,
     "metadata": {},
     "output_type": "execute_result"
    }
   ],
   "source": [
    "f = smp.exp(x) / smp.sqrt(smp.exp(2*x) + 9)\n",
    "smp.integrate(f, (x, 0, smp.log(4))).evalf()"
   ]
  },
  {
   "cell_type": "markdown",
   "id": "d0c5ba85",
   "metadata": {},
   "source": [
    "## Example 5 - Unbestimmtes Integral\n",
    "$$\\int \\limits_0^\\infty \\frac{16 \\tan^{-1}(x)}{1+x^2}\\mathrm dx$$"
   ]
  },
  {
   "cell_type": "code",
   "execution_count": 16,
   "id": "b440030b",
   "metadata": {},
   "outputs": [
    {
     "data": {
      "text/latex": [
       "$\\displaystyle 2 \\pi^{2}$"
      ],
      "text/plain": [
       "2*pi**2"
      ]
     },
     "execution_count": 16,
     "metadata": {},
     "output_type": "execute_result"
    }
   ],
   "source": [
    "f = 16*smp.atan(x) / (1+x**2)\n",
    "smp.integrate(f, (x, 0, smp.oo))"
   ]
  },
  {
   "cell_type": "markdown",
   "id": "c8a2b0c6",
   "metadata": {},
   "source": [
    "# Unsolvable Integrals\n",
    "## Example 1\n",
    "$$\\int \\limits_1^2 \\mathrm e^{-\\sin(x)}\\mathrm dx$$"
   ]
  },
  {
   "cell_type": "code",
   "execution_count": 3,
   "id": "6ec41f93",
   "metadata": {},
   "outputs": [
    {
     "data": {
      "text/latex": [
       "$\\displaystyle \\int\\limits_{1}^{2} e^{- \\sin{\\left(x \\right)}}\\, dx$"
      ],
      "text/plain": [
       "Integral(exp(-sin(x)), (x, 1, 2))"
      ]
     },
     "execution_count": 3,
     "metadata": {},
     "output_type": "execute_result"
    }
   ],
   "source": [
    "x = smp.symbols('x', real=True)\n",
    "#f = smp.exp(-smp.sin(x))\n",
    "#smp.integrate(f, (x, 1, 2)).simplify()"
   ]
  },
  {
   "cell_type": "markdown",
   "id": "6af2af75",
   "metadata": {},
   "source": [
    "So we use scipy's quad function to integrate numerically"
   ]
  },
  {
   "cell_type": "code",
   "execution_count": 4,
   "id": "27496434",
   "metadata": {},
   "outputs": [
    {
     "data": {
      "text/plain": [
       "(0.3845918142796868, 4.2698268729567035e-15)"
      ]
     },
     "execution_count": 4,
     "metadata": {},
     "output_type": "execute_result"
    }
   ],
   "source": [
    "f = lambda x: np.exp(-np.sin(x))\n",
    "quad(f, 1, 2)"
   ]
  },
  {
   "cell_type": "code",
   "execution_count": 5,
   "id": "851d7188",
   "metadata": {},
   "outputs": [
    {
     "data": {
      "text/plain": [
       "0.3845918142796868"
      ]
     },
     "execution_count": 5,
     "metadata": {},
     "output_type": "execute_result"
    }
   ],
   "source": [
    "quad(f, 1, 2)[0]"
   ]
  },
  {
   "cell_type": "markdown",
   "id": "a2017f6f",
   "metadata": {},
   "source": [
    "## Example 2\n",
    "$$\\int \\limits_0^{2\\pi}\\frac{1}{(a-\\cos{x})^2+(b - \\sin x)^2}\\mathrm dx$$"
   ]
  },
  {
   "cell_type": "code",
   "execution_count": 7,
   "id": "37ead81e",
   "metadata": {},
   "outputs": [
    {
     "ename": "KeyboardInterrupt",
     "evalue": "",
     "output_type": "error",
     "traceback": [
      "\u001B[0;31m---------------------------------------------------------------------------\u001B[0m",
      "\u001B[0;31mKeyboardInterrupt\u001B[0m                         Traceback (most recent call last)",
      "\u001B[0;32m/var/folders/rv/pgv25mjd387bmjq_54gpqyrw0000gn/T/ipykernel_1648/4048040218.py\u001B[0m in \u001B[0;36m<module>\u001B[0;34m\u001B[0m\n\u001B[1;32m      1\u001B[0m \u001B[0ma\u001B[0m\u001B[0;34m,\u001B[0m \u001B[0mb\u001B[0m \u001B[0;34m=\u001B[0m \u001B[0msmp\u001B[0m\u001B[0;34m.\u001B[0m\u001B[0msymbols\u001B[0m\u001B[0;34m(\u001B[0m\u001B[0;34m'a b'\u001B[0m\u001B[0;34m,\u001B[0m \u001B[0mreal\u001B[0m\u001B[0;34m=\u001B[0m\u001B[0;32mTrue\u001B[0m\u001B[0;34m,\u001B[0m \u001B[0mpositive\u001B[0m\u001B[0;34m=\u001B[0m\u001B[0;32mTrue\u001B[0m\u001B[0;34m)\u001B[0m\u001B[0;34m\u001B[0m\u001B[0;34m\u001B[0m\u001B[0m\n\u001B[1;32m      2\u001B[0m \u001B[0mf\u001B[0m \u001B[0;34m=\u001B[0m \u001B[0;36m1\u001B[0m\u001B[0;34m/\u001B[0m\u001B[0;34m(\u001B[0m\u001B[0;34m(\u001B[0m\u001B[0ma\u001B[0m\u001B[0;34m-\u001B[0m\u001B[0msmp\u001B[0m\u001B[0;34m.\u001B[0m\u001B[0mcos\u001B[0m\u001B[0;34m(\u001B[0m\u001B[0mx\u001B[0m\u001B[0;34m)\u001B[0m\u001B[0;34m)\u001B[0m\u001B[0;34m**\u001B[0m\u001B[0;36m2\u001B[0m \u001B[0;34m+\u001B[0m \u001B[0;34m(\u001B[0m\u001B[0mb\u001B[0m\u001B[0;34m-\u001B[0m\u001B[0msmp\u001B[0m\u001B[0;34m.\u001B[0m\u001B[0msin\u001B[0m\u001B[0;34m(\u001B[0m\u001B[0mx\u001B[0m\u001B[0;34m)\u001B[0m\u001B[0;34m)\u001B[0m\u001B[0;34m**\u001B[0m\u001B[0;36m2\u001B[0m\u001B[0;34m)\u001B[0m\u001B[0;34m\u001B[0m\u001B[0;34m\u001B[0m\u001B[0m\n\u001B[0;32m----> 3\u001B[0;31m \u001B[0msmp\u001B[0m\u001B[0;34m.\u001B[0m\u001B[0mintegrate\u001B[0m\u001B[0;34m(\u001B[0m\u001B[0mf\u001B[0m\u001B[0;34m,\u001B[0m \u001B[0;34m(\u001B[0m\u001B[0mx\u001B[0m\u001B[0;34m,\u001B[0m \u001B[0;36m0\u001B[0m\u001B[0;34m,\u001B[0m \u001B[0;36m2\u001B[0m\u001B[0;34m*\u001B[0m\u001B[0msmp\u001B[0m\u001B[0;34m.\u001B[0m\u001B[0mpi\u001B[0m\u001B[0;34m)\u001B[0m\u001B[0;34m)\u001B[0m\u001B[0;34m.\u001B[0m\u001B[0msimplify\u001B[0m\u001B[0;34m(\u001B[0m\u001B[0;34m)\u001B[0m\u001B[0;34m\u001B[0m\u001B[0;34m\u001B[0m\u001B[0m\n\u001B[0m",
      "\u001B[0;32m~/opt/anaconda3/lib/python3.9/site-packages/sympy/integrals/integrals.py\u001B[0m in \u001B[0;36mintegrate\u001B[0;34m(meijerg, conds, risch, heurisch, manual, *args, **kwargs)\u001B[0m\n\u001B[1;32m   1564\u001B[0m \u001B[0;34m\u001B[0m\u001B[0m\n\u001B[1;32m   1565\u001B[0m     \u001B[0;32mif\u001B[0m \u001B[0misinstance\u001B[0m\u001B[0;34m(\u001B[0m\u001B[0mintegral\u001B[0m\u001B[0;34m,\u001B[0m \u001B[0mIntegral\u001B[0m\u001B[0;34m)\u001B[0m\u001B[0;34m:\u001B[0m\u001B[0;34m\u001B[0m\u001B[0;34m\u001B[0m\u001B[0m\n\u001B[0;32m-> 1566\u001B[0;31m         \u001B[0;32mreturn\u001B[0m \u001B[0mintegral\u001B[0m\u001B[0;34m.\u001B[0m\u001B[0mdoit\u001B[0m\u001B[0;34m(\u001B[0m\u001B[0;34m**\u001B[0m\u001B[0mdoit_flags\u001B[0m\u001B[0;34m)\u001B[0m\u001B[0;34m\u001B[0m\u001B[0;34m\u001B[0m\u001B[0m\n\u001B[0m\u001B[1;32m   1567\u001B[0m     \u001B[0;32melse\u001B[0m\u001B[0;34m:\u001B[0m\u001B[0;34m\u001B[0m\u001B[0;34m\u001B[0m\u001B[0m\n\u001B[1;32m   1568\u001B[0m         new_args = [a.doit(**doit_flags) if isinstance(a, Integral) else a\n",
      "\u001B[0;32m~/opt/anaconda3/lib/python3.9/site-packages/sympy/integrals/integrals.py\u001B[0m in \u001B[0;36mdoit\u001B[0;34m(self, **hints)\u001B[0m\n\u001B[1;32m    498\u001B[0m         \u001B[0;32mif\u001B[0m \u001B[0mreps\u001B[0m\u001B[0;34m:\u001B[0m\u001B[0;34m\u001B[0m\u001B[0;34m\u001B[0m\u001B[0m\n\u001B[1;32m    499\u001B[0m             \u001B[0mundo\u001B[0m \u001B[0;34m=\u001B[0m \u001B[0;34m{\u001B[0m\u001B[0mv\u001B[0m\u001B[0;34m:\u001B[0m \u001B[0mk\u001B[0m \u001B[0;32mfor\u001B[0m \u001B[0mk\u001B[0m\u001B[0;34m,\u001B[0m \u001B[0mv\u001B[0m \u001B[0;32min\u001B[0m \u001B[0mreps\u001B[0m\u001B[0;34m.\u001B[0m\u001B[0mitems\u001B[0m\u001B[0;34m(\u001B[0m\u001B[0;34m)\u001B[0m\u001B[0;34m}\u001B[0m\u001B[0;34m\u001B[0m\u001B[0;34m\u001B[0m\u001B[0m\n\u001B[0;32m--> 500\u001B[0;31m             \u001B[0mdid\u001B[0m \u001B[0;34m=\u001B[0m \u001B[0mself\u001B[0m\u001B[0;34m.\u001B[0m\u001B[0mxreplace\u001B[0m\u001B[0;34m(\u001B[0m\u001B[0mreps\u001B[0m\u001B[0;34m)\u001B[0m\u001B[0;34m.\u001B[0m\u001B[0mdoit\u001B[0m\u001B[0;34m(\u001B[0m\u001B[0;34m**\u001B[0m\u001B[0mhints\u001B[0m\u001B[0;34m)\u001B[0m\u001B[0;34m\u001B[0m\u001B[0;34m\u001B[0m\u001B[0m\n\u001B[0m\u001B[1;32m    501\u001B[0m             \u001B[0;32mif\u001B[0m \u001B[0misinstance\u001B[0m\u001B[0;34m(\u001B[0m\u001B[0mdid\u001B[0m\u001B[0;34m,\u001B[0m \u001B[0mtuple\u001B[0m\u001B[0;34m)\u001B[0m\u001B[0;34m:\u001B[0m  \u001B[0;31m# when separate=True\u001B[0m\u001B[0;34m\u001B[0m\u001B[0;34m\u001B[0m\u001B[0m\n\u001B[1;32m    502\u001B[0m                 \u001B[0mdid\u001B[0m \u001B[0;34m=\u001B[0m \u001B[0mtuple\u001B[0m\u001B[0;34m(\u001B[0m\u001B[0;34m[\u001B[0m\u001B[0mi\u001B[0m\u001B[0;34m.\u001B[0m\u001B[0mxreplace\u001B[0m\u001B[0;34m(\u001B[0m\u001B[0mundo\u001B[0m\u001B[0;34m)\u001B[0m \u001B[0;32mfor\u001B[0m \u001B[0mi\u001B[0m \u001B[0;32min\u001B[0m \u001B[0mdid\u001B[0m\u001B[0;34m]\u001B[0m\u001B[0;34m)\u001B[0m\u001B[0;34m\u001B[0m\u001B[0;34m\u001B[0m\u001B[0m\n",
      "\u001B[0;32m~/opt/anaconda3/lib/python3.9/site-packages/sympy/integrals/integrals.py\u001B[0m in \u001B[0;36mdoit\u001B[0;34m(self, **hints)\u001B[0m\n\u001B[1;32m    611\u001B[0m                     \u001B[0mantideriv\u001B[0m \u001B[0;34m=\u001B[0m \u001B[0;32mNone\u001B[0m\u001B[0;34m\u001B[0m\u001B[0;34m\u001B[0m\u001B[0m\n\u001B[1;32m    612\u001B[0m                 \u001B[0;32melse\u001B[0m\u001B[0;34m:\u001B[0m\u001B[0;34m\u001B[0m\u001B[0;34m\u001B[0m\u001B[0m\n\u001B[0;32m--> 613\u001B[0;31m                     antideriv = self._eval_integral(\n\u001B[0m\u001B[1;32m    614\u001B[0m                         function, xab[0], **eval_kwargs)\n\u001B[1;32m    615\u001B[0m                     \u001B[0;32mif\u001B[0m \u001B[0mantideriv\u001B[0m \u001B[0;32mis\u001B[0m \u001B[0;32mNone\u001B[0m \u001B[0;32mand\u001B[0m \u001B[0mmeijerg\u001B[0m \u001B[0;32mis\u001B[0m \u001B[0;32mTrue\u001B[0m\u001B[0;34m:\u001B[0m\u001B[0;34m\u001B[0m\u001B[0;34m\u001B[0m\u001B[0m\n",
      "\u001B[0;32m~/opt/anaconda3/lib/python3.9/site-packages/sympy/integrals/integrals.py\u001B[0m in \u001B[0;36m_eval_integral\u001B[0;34m(self, f, x, meijerg, risch, manual, heurisch, conds, final)\u001B[0m\n\u001B[1;32m   1082\u001B[0m                     \u001B[0;32mtry\u001B[0m\u001B[0;34m:\u001B[0m\u001B[0;34m\u001B[0m\u001B[0;34m\u001B[0m\u001B[0m\n\u001B[1;32m   1083\u001B[0m                         \u001B[0;32mif\u001B[0m \u001B[0mconds\u001B[0m \u001B[0;34m==\u001B[0m \u001B[0;34m'piecewise'\u001B[0m\u001B[0;34m:\u001B[0m\u001B[0;34m\u001B[0m\u001B[0;34m\u001B[0m\u001B[0m\n\u001B[0;32m-> 1084\u001B[0;31m                             \u001B[0mh\u001B[0m \u001B[0;34m=\u001B[0m \u001B[0mheurisch_wrapper\u001B[0m\u001B[0;34m(\u001B[0m\u001B[0mg\u001B[0m\u001B[0;34m,\u001B[0m \u001B[0mx\u001B[0m\u001B[0;34m,\u001B[0m \u001B[0mhints\u001B[0m\u001B[0;34m=\u001B[0m\u001B[0;34m[\u001B[0m\u001B[0;34m]\u001B[0m\u001B[0;34m)\u001B[0m\u001B[0;34m\u001B[0m\u001B[0;34m\u001B[0m\u001B[0m\n\u001B[0m\u001B[1;32m   1085\u001B[0m                         \u001B[0;32melse\u001B[0m\u001B[0;34m:\u001B[0m\u001B[0;34m\u001B[0m\u001B[0;34m\u001B[0m\u001B[0m\n\u001B[1;32m   1086\u001B[0m                             \u001B[0mh\u001B[0m \u001B[0;34m=\u001B[0m \u001B[0mheurisch_\u001B[0m\u001B[0;34m(\u001B[0m\u001B[0mg\u001B[0m\u001B[0;34m,\u001B[0m \u001B[0mx\u001B[0m\u001B[0;34m,\u001B[0m \u001B[0mhints\u001B[0m\u001B[0;34m=\u001B[0m\u001B[0;34m[\u001B[0m\u001B[0;34m]\u001B[0m\u001B[0;34m)\u001B[0m\u001B[0;34m\u001B[0m\u001B[0;34m\u001B[0m\u001B[0m\n",
      "\u001B[0;32m~/opt/anaconda3/lib/python3.9/site-packages/sympy/integrals/heurisch.py\u001B[0m in \u001B[0;36mheurisch_wrapper\u001B[0;34m(f, x, rewrite, hints, mappings, retries, degree_offset, unnecessary_permutations, _try_heurisch)\u001B[0m\n\u001B[1;32m    141\u001B[0m         \u001B[0;32mreturn\u001B[0m \u001B[0mf\u001B[0m\u001B[0;34m*\u001B[0m\u001B[0mx\u001B[0m\u001B[0;34m\u001B[0m\u001B[0;34m\u001B[0m\u001B[0m\n\u001B[1;32m    142\u001B[0m \u001B[0;34m\u001B[0m\u001B[0m\n\u001B[0;32m--> 143\u001B[0;31m     res = heurisch(f, x, rewrite, hints, mappings, retries, degree_offset,\n\u001B[0m\u001B[1;32m    144\u001B[0m                    unnecessary_permutations, _try_heurisch)\n\u001B[1;32m    145\u001B[0m     \u001B[0;32mif\u001B[0m \u001B[0;32mnot\u001B[0m \u001B[0misinstance\u001B[0m\u001B[0;34m(\u001B[0m\u001B[0mres\u001B[0m\u001B[0;34m,\u001B[0m \u001B[0mBasic\u001B[0m\u001B[0;34m)\u001B[0m\u001B[0;34m:\u001B[0m\u001B[0;34m\u001B[0m\u001B[0;34m\u001B[0m\u001B[0m\n",
      "\u001B[0;32m~/opt/anaconda3/lib/python3.9/site-packages/sympy/integrals/heurisch.py\u001B[0m in \u001B[0;36mheurisch\u001B[0;34m(f, x, rewrite, hints, mappings, retries, degree_offset, unnecessary_permutations, _try_heurisch)\u001B[0m\n\u001B[1;32m    748\u001B[0m     \u001B[0;32melse\u001B[0m\u001B[0;34m:\u001B[0m\u001B[0;34m\u001B[0m\u001B[0;34m\u001B[0m\u001B[0m\n\u001B[1;32m    749\u001B[0m         \u001B[0;32mif\u001B[0m \u001B[0mretries\u001B[0m \u001B[0;34m>=\u001B[0m \u001B[0;36m0\u001B[0m\u001B[0;34m:\u001B[0m\u001B[0;34m\u001B[0m\u001B[0;34m\u001B[0m\u001B[0m\n\u001B[0;32m--> 750\u001B[0;31m             \u001B[0mresult\u001B[0m \u001B[0;34m=\u001B[0m \u001B[0mheurisch\u001B[0m\u001B[0;34m(\u001B[0m\u001B[0mf\u001B[0m\u001B[0;34m,\u001B[0m \u001B[0mx\u001B[0m\u001B[0;34m,\u001B[0m \u001B[0mmappings\u001B[0m\u001B[0;34m=\u001B[0m\u001B[0mmappings\u001B[0m\u001B[0;34m,\u001B[0m \u001B[0mrewrite\u001B[0m\u001B[0;34m=\u001B[0m\u001B[0mrewrite\u001B[0m\u001B[0;34m,\u001B[0m \u001B[0mhints\u001B[0m\u001B[0;34m=\u001B[0m\u001B[0mhints\u001B[0m\u001B[0;34m,\u001B[0m \u001B[0mretries\u001B[0m\u001B[0;34m=\u001B[0m\u001B[0mretries\u001B[0m \u001B[0;34m-\u001B[0m \u001B[0;36m1\u001B[0m\u001B[0;34m,\u001B[0m \u001B[0munnecessary_permutations\u001B[0m\u001B[0;34m=\u001B[0m\u001B[0munnecessary_permutations\u001B[0m\u001B[0;34m)\u001B[0m\u001B[0;34m\u001B[0m\u001B[0;34m\u001B[0m\u001B[0m\n\u001B[0m\u001B[1;32m    751\u001B[0m \u001B[0;34m\u001B[0m\u001B[0m\n\u001B[1;32m    752\u001B[0m             \u001B[0;32mif\u001B[0m \u001B[0mresult\u001B[0m \u001B[0;32mis\u001B[0m \u001B[0;32mnot\u001B[0m \u001B[0;32mNone\u001B[0m\u001B[0;34m:\u001B[0m\u001B[0;34m\u001B[0m\u001B[0;34m\u001B[0m\u001B[0m\n",
      "\u001B[0;32m~/opt/anaconda3/lib/python3.9/site-packages/sympy/integrals/heurisch.py\u001B[0m in \u001B[0;36mheurisch\u001B[0;34m(f, x, rewrite, hints, mappings, retries, degree_offset, unnecessary_permutations, _try_heurisch)\u001B[0m\n\u001B[1;32m    748\u001B[0m     \u001B[0;32melse\u001B[0m\u001B[0;34m:\u001B[0m\u001B[0;34m\u001B[0m\u001B[0;34m\u001B[0m\u001B[0m\n\u001B[1;32m    749\u001B[0m         \u001B[0;32mif\u001B[0m \u001B[0mretries\u001B[0m \u001B[0;34m>=\u001B[0m \u001B[0;36m0\u001B[0m\u001B[0;34m:\u001B[0m\u001B[0;34m\u001B[0m\u001B[0;34m\u001B[0m\u001B[0m\n\u001B[0;32m--> 750\u001B[0;31m             \u001B[0mresult\u001B[0m \u001B[0;34m=\u001B[0m \u001B[0mheurisch\u001B[0m\u001B[0;34m(\u001B[0m\u001B[0mf\u001B[0m\u001B[0;34m,\u001B[0m \u001B[0mx\u001B[0m\u001B[0;34m,\u001B[0m \u001B[0mmappings\u001B[0m\u001B[0;34m=\u001B[0m\u001B[0mmappings\u001B[0m\u001B[0;34m,\u001B[0m \u001B[0mrewrite\u001B[0m\u001B[0;34m=\u001B[0m\u001B[0mrewrite\u001B[0m\u001B[0;34m,\u001B[0m \u001B[0mhints\u001B[0m\u001B[0;34m=\u001B[0m\u001B[0mhints\u001B[0m\u001B[0;34m,\u001B[0m \u001B[0mretries\u001B[0m\u001B[0;34m=\u001B[0m\u001B[0mretries\u001B[0m \u001B[0;34m-\u001B[0m \u001B[0;36m1\u001B[0m\u001B[0;34m,\u001B[0m \u001B[0munnecessary_permutations\u001B[0m\u001B[0;34m=\u001B[0m\u001B[0munnecessary_permutations\u001B[0m\u001B[0;34m)\u001B[0m\u001B[0;34m\u001B[0m\u001B[0;34m\u001B[0m\u001B[0m\n\u001B[0m\u001B[1;32m    751\u001B[0m \u001B[0;34m\u001B[0m\u001B[0m\n\u001B[1;32m    752\u001B[0m             \u001B[0;32mif\u001B[0m \u001B[0mresult\u001B[0m \u001B[0;32mis\u001B[0m \u001B[0;32mnot\u001B[0m \u001B[0;32mNone\u001B[0m\u001B[0;34m:\u001B[0m\u001B[0;34m\u001B[0m\u001B[0;34m\u001B[0m\u001B[0m\n",
      "\u001B[0;32m~/opt/anaconda3/lib/python3.9/site-packages/sympy/integrals/heurisch.py\u001B[0m in \u001B[0;36mheurisch\u001B[0;34m(f, x, rewrite, hints, mappings, retries, degree_offset, unnecessary_permutations, _try_heurisch)\u001B[0m\n\u001B[1;32m    505\u001B[0m     \u001B[0;32melse\u001B[0m\u001B[0;34m:\u001B[0m\u001B[0;34m\u001B[0m\u001B[0;34m\u001B[0m\u001B[0m\n\u001B[1;32m    506\u001B[0m         \u001B[0;32mif\u001B[0m \u001B[0;32mnot\u001B[0m \u001B[0mrewrite\u001B[0m\u001B[0;34m:\u001B[0m\u001B[0;34m\u001B[0m\u001B[0;34m\u001B[0m\u001B[0m\n\u001B[0;32m--> 507\u001B[0;31m             result = heurisch(f, x, rewrite=True, hints=hints,\n\u001B[0m\u001B[1;32m    508\u001B[0m                 unnecessary_permutations=unnecessary_permutations)\n\u001B[1;32m    509\u001B[0m \u001B[0;34m\u001B[0m\u001B[0m\n",
      "\u001B[0;32m~/opt/anaconda3/lib/python3.9/site-packages/sympy/integrals/heurisch.py\u001B[0m in \u001B[0;36mheurisch\u001B[0;34m(f, x, rewrite, hints, mappings, retries, degree_offset, unnecessary_permutations, _try_heurisch)\u001B[0m\n\u001B[1;32m    736\u001B[0m             \u001B[0msolution\u001B[0m \u001B[0;34m=\u001B[0m \u001B[0m_integrate\u001B[0m\u001B[0;34m(\u001B[0m\u001B[0;34m)\u001B[0m\u001B[0;34m\u001B[0m\u001B[0;34m\u001B[0m\u001B[0m\n\u001B[1;32m    737\u001B[0m     \u001B[0;32melse\u001B[0m\u001B[0;34m:\u001B[0m\u001B[0;34m\u001B[0m\u001B[0;34m\u001B[0m\u001B[0m\n\u001B[0;32m--> 738\u001B[0;31m         \u001B[0msolution\u001B[0m \u001B[0;34m=\u001B[0m \u001B[0m_integrate\u001B[0m\u001B[0;34m(\u001B[0m\u001B[0;34m)\u001B[0m\u001B[0;34m\u001B[0m\u001B[0;34m\u001B[0m\u001B[0m\n\u001B[0m\u001B[1;32m    739\u001B[0m \u001B[0;34m\u001B[0m\u001B[0m\n\u001B[1;32m    740\u001B[0m     \u001B[0;32mif\u001B[0m \u001B[0msolution\u001B[0m \u001B[0;32mis\u001B[0m \u001B[0;32mnot\u001B[0m \u001B[0;32mNone\u001B[0m\u001B[0;34m:\u001B[0m\u001B[0;34m\u001B[0m\u001B[0;34m\u001B[0m\u001B[0m\n",
      "\u001B[0;32m~/opt/anaconda3/lib/python3.9/site-packages/sympy/integrals/heurisch.py\u001B[0m in \u001B[0;36m_integrate\u001B[0;34m(field)\u001B[0m\n\u001B[1;32m    715\u001B[0m         \u001B[0;32mexcept\u001B[0m \u001B[0mValueError\u001B[0m\u001B[0;34m:\u001B[0m\u001B[0;34m\u001B[0m\u001B[0;34m\u001B[0m\u001B[0m\n\u001B[1;32m    716\u001B[0m             \u001B[0;32mraise\u001B[0m \u001B[0mPolynomialError\u001B[0m\u001B[0;34m\u001B[0m\u001B[0;34m\u001B[0m\u001B[0m\n\u001B[0;32m--> 717\u001B[0;31m         \u001B[0msolution\u001B[0m \u001B[0;34m=\u001B[0m \u001B[0msolve_lin_sys\u001B[0m\u001B[0;34m(\u001B[0m\u001B[0mnumer\u001B[0m\u001B[0;34m.\u001B[0m\u001B[0mcoeffs\u001B[0m\u001B[0;34m(\u001B[0m\u001B[0;34m)\u001B[0m\u001B[0;34m,\u001B[0m \u001B[0mcoeff_ring\u001B[0m\u001B[0;34m,\u001B[0m \u001B[0m_raw\u001B[0m\u001B[0;34m=\u001B[0m\u001B[0;32mFalse\u001B[0m\u001B[0;34m)\u001B[0m\u001B[0;34m\u001B[0m\u001B[0;34m\u001B[0m\u001B[0m\n\u001B[0m\u001B[1;32m    718\u001B[0m \u001B[0;34m\u001B[0m\u001B[0m\n\u001B[1;32m    719\u001B[0m         \u001B[0;32mif\u001B[0m \u001B[0msolution\u001B[0m \u001B[0;32mis\u001B[0m \u001B[0;32mNone\u001B[0m\u001B[0;34m:\u001B[0m\u001B[0;34m\u001B[0m\u001B[0;34m\u001B[0m\u001B[0m\n",
      "\u001B[0;32m~/opt/anaconda3/lib/python3.9/site-packages/sympy/polys/solvers.py\u001B[0m in \u001B[0;36msolve_lin_sys\u001B[0;34m(eqs, ring, _raw)\u001B[0m\n\u001B[1;32m    277\u001B[0m         \u001B[0meqs_coeffs\u001B[0m\u001B[0;34m.\u001B[0m\u001B[0mappend\u001B[0m\u001B[0;34m(\u001B[0m\u001B[0meq_coeffs\u001B[0m\u001B[0;34m)\u001B[0m\u001B[0;34m\u001B[0m\u001B[0;34m\u001B[0m\u001B[0m\n\u001B[1;32m    278\u001B[0m \u001B[0;34m\u001B[0m\u001B[0m\n\u001B[0;32m--> 279\u001B[0;31m     \u001B[0mresult\u001B[0m \u001B[0;34m=\u001B[0m \u001B[0m_solve_lin_sys\u001B[0m\u001B[0;34m(\u001B[0m\u001B[0meqs_coeffs\u001B[0m\u001B[0;34m,\u001B[0m \u001B[0meqs_rhs\u001B[0m\u001B[0;34m,\u001B[0m \u001B[0mring\u001B[0m\u001B[0;34m)\u001B[0m\u001B[0;34m\u001B[0m\u001B[0;34m\u001B[0m\u001B[0m\n\u001B[0m\u001B[1;32m    280\u001B[0m \u001B[0;34m\u001B[0m\u001B[0m\n\u001B[1;32m    281\u001B[0m     \u001B[0;32mif\u001B[0m \u001B[0mresult\u001B[0m \u001B[0;32mis\u001B[0m \u001B[0;32mnot\u001B[0m \u001B[0;32mNone\u001B[0m \u001B[0;32mand\u001B[0m \u001B[0mas_expr\u001B[0m\u001B[0;34m:\u001B[0m\u001B[0;34m\u001B[0m\u001B[0;34m\u001B[0m\u001B[0m\n",
      "\u001B[0;32m~/opt/anaconda3/lib/python3.9/site-packages/sympy/polys/solvers.py\u001B[0m in \u001B[0;36m_solve_lin_sys\u001B[0;34m(eqs_coeffs, eqs_rhs, ring)\u001B[0m\n\u001B[1;32m    355\u001B[0m     \u001B[0msol\u001B[0m \u001B[0;34m=\u001B[0m \u001B[0;34m{\u001B[0m\u001B[0;34m}\u001B[0m\u001B[0;34m\u001B[0m\u001B[0;34m\u001B[0m\u001B[0m\n\u001B[1;32m    356\u001B[0m     \u001B[0;32mfor\u001B[0m \u001B[0msubsystem\u001B[0m \u001B[0;32min\u001B[0m \u001B[0msubsystems\u001B[0m\u001B[0;34m:\u001B[0m\u001B[0;34m\u001B[0m\u001B[0;34m\u001B[0m\u001B[0m\n\u001B[0;32m--> 357\u001B[0;31m         \u001B[0msubsol\u001B[0m \u001B[0;34m=\u001B[0m \u001B[0m_solve_lin_sys_component\u001B[0m\u001B[0;34m(\u001B[0m\u001B[0msubsystem\u001B[0m\u001B[0;34m[\u001B[0m\u001B[0;36m0\u001B[0m\u001B[0;34m]\u001B[0m\u001B[0;34m,\u001B[0m \u001B[0msubsystem\u001B[0m\u001B[0;34m[\u001B[0m\u001B[0;36m1\u001B[0m\u001B[0;34m]\u001B[0m\u001B[0;34m,\u001B[0m \u001B[0mring\u001B[0m\u001B[0;34m)\u001B[0m\u001B[0;34m\u001B[0m\u001B[0;34m\u001B[0m\u001B[0m\n\u001B[0m\u001B[1;32m    358\u001B[0m         \u001B[0;32mif\u001B[0m \u001B[0msubsol\u001B[0m \u001B[0;32mis\u001B[0m \u001B[0;32mNone\u001B[0m\u001B[0;34m:\u001B[0m\u001B[0;34m\u001B[0m\u001B[0;34m\u001B[0m\u001B[0m\n\u001B[1;32m    359\u001B[0m             \u001B[0;32mreturn\u001B[0m \u001B[0;32mNone\u001B[0m\u001B[0;34m\u001B[0m\u001B[0;34m\u001B[0m\u001B[0m\n",
      "\u001B[0;32m~/opt/anaconda3/lib/python3.9/site-packages/sympy/polys/solvers.py\u001B[0m in \u001B[0;36m_solve_lin_sys_component\u001B[0;34m(eqs_coeffs, eqs_rhs, ring)\u001B[0m\n\u001B[1;32m    403\u001B[0m \u001B[0;34m\u001B[0m\u001B[0m\n\u001B[1;32m    404\u001B[0m     \u001B[0;31m# solve by row-reduction\u001B[0m\u001B[0;34m\u001B[0m\u001B[0;34m\u001B[0m\u001B[0m\n\u001B[0;32m--> 405\u001B[0;31m     \u001B[0mechelon\u001B[0m\u001B[0;34m,\u001B[0m \u001B[0mpivots\u001B[0m \u001B[0;34m=\u001B[0m \u001B[0mmatrix\u001B[0m\u001B[0;34m.\u001B[0m\u001B[0mrref\u001B[0m\u001B[0;34m(\u001B[0m\u001B[0;34m)\u001B[0m\u001B[0;34m\u001B[0m\u001B[0;34m\u001B[0m\u001B[0m\n\u001B[0m\u001B[1;32m    406\u001B[0m \u001B[0;34m\u001B[0m\u001B[0m\n\u001B[1;32m    407\u001B[0m     \u001B[0;31m# construct the returnable form of the solutions\u001B[0m\u001B[0;34m\u001B[0m\u001B[0;34m\u001B[0m\u001B[0m\n",
      "\u001B[0;32m~/opt/anaconda3/lib/python3.9/site-packages/sympy/polys/matrices/domainmatrix.py\u001B[0m in \u001B[0;36mrref\u001B[0;34m(self)\u001B[0m\n\u001B[1;32m   1271\u001B[0m         \u001B[0;32mif\u001B[0m \u001B[0;32mnot\u001B[0m \u001B[0mself\u001B[0m\u001B[0;34m.\u001B[0m\u001B[0mdomain\u001B[0m\u001B[0;34m.\u001B[0m\u001B[0mis_Field\u001B[0m\u001B[0;34m:\u001B[0m\u001B[0;34m\u001B[0m\u001B[0;34m\u001B[0m\u001B[0m\n\u001B[1;32m   1272\u001B[0m             \u001B[0;32mraise\u001B[0m \u001B[0mDMNotAField\u001B[0m\u001B[0;34m(\u001B[0m\u001B[0;34m'Not a field'\u001B[0m\u001B[0;34m)\u001B[0m\u001B[0;34m\u001B[0m\u001B[0;34m\u001B[0m\u001B[0m\n\u001B[0;32m-> 1273\u001B[0;31m         \u001B[0mrref_ddm\u001B[0m\u001B[0;34m,\u001B[0m \u001B[0mpivots\u001B[0m \u001B[0;34m=\u001B[0m \u001B[0mself\u001B[0m\u001B[0;34m.\u001B[0m\u001B[0mrep\u001B[0m\u001B[0;34m.\u001B[0m\u001B[0mrref\u001B[0m\u001B[0;34m(\u001B[0m\u001B[0;34m)\u001B[0m\u001B[0;34m\u001B[0m\u001B[0;34m\u001B[0m\u001B[0m\n\u001B[0m\u001B[1;32m   1274\u001B[0m         \u001B[0;32mreturn\u001B[0m \u001B[0mself\u001B[0m\u001B[0;34m.\u001B[0m\u001B[0mfrom_rep\u001B[0m\u001B[0;34m(\u001B[0m\u001B[0mrref_ddm\u001B[0m\u001B[0;34m)\u001B[0m\u001B[0;34m,\u001B[0m \u001B[0mtuple\u001B[0m\u001B[0;34m(\u001B[0m\u001B[0mpivots\u001B[0m\u001B[0;34m)\u001B[0m\u001B[0;34m\u001B[0m\u001B[0;34m\u001B[0m\u001B[0m\n\u001B[1;32m   1275\u001B[0m \u001B[0;34m\u001B[0m\u001B[0m\n",
      "\u001B[0;32m~/opt/anaconda3/lib/python3.9/site-packages/sympy/polys/matrices/ddm.py\u001B[0m in \u001B[0;36mrref\u001B[0;34m(a)\u001B[0m\n\u001B[1;32m    385\u001B[0m         \u001B[0mK\u001B[0m \u001B[0;34m=\u001B[0m \u001B[0ma\u001B[0m\u001B[0;34m.\u001B[0m\u001B[0mdomain\u001B[0m\u001B[0;34m\u001B[0m\u001B[0;34m\u001B[0m\u001B[0m\n\u001B[1;32m    386\u001B[0m         \u001B[0mpartial_pivot\u001B[0m \u001B[0;34m=\u001B[0m \u001B[0mK\u001B[0m\u001B[0;34m.\u001B[0m\u001B[0mis_RealField\u001B[0m \u001B[0;32mor\u001B[0m \u001B[0mK\u001B[0m\u001B[0;34m.\u001B[0m\u001B[0mis_ComplexField\u001B[0m\u001B[0;34m\u001B[0m\u001B[0;34m\u001B[0m\u001B[0m\n\u001B[0;32m--> 387\u001B[0;31m         \u001B[0mpivots\u001B[0m \u001B[0;34m=\u001B[0m \u001B[0mddm_irref\u001B[0m\u001B[0;34m(\u001B[0m\u001B[0mb\u001B[0m\u001B[0;34m,\u001B[0m \u001B[0m_partial_pivot\u001B[0m\u001B[0;34m=\u001B[0m\u001B[0mpartial_pivot\u001B[0m\u001B[0;34m)\u001B[0m\u001B[0;34m\u001B[0m\u001B[0;34m\u001B[0m\u001B[0m\n\u001B[0m\u001B[1;32m    388\u001B[0m         \u001B[0;32mreturn\u001B[0m \u001B[0mb\u001B[0m\u001B[0;34m,\u001B[0m \u001B[0mpivots\u001B[0m\u001B[0;34m\u001B[0m\u001B[0;34m\u001B[0m\u001B[0m\n\u001B[1;32m    389\u001B[0m \u001B[0;34m\u001B[0m\u001B[0m\n",
      "\u001B[0;32m~/opt/anaconda3/lib/python3.9/site-packages/sympy/polys/matrices/dense.py\u001B[0m in \u001B[0;36mddm_irref\u001B[0;34m(a, _partial_pivot)\u001B[0m\n\u001B[1;32m    141\u001B[0m             \u001B[0mak\u001B[0m\u001B[0;34m[\u001B[0m\u001B[0mj\u001B[0m\u001B[0;34m]\u001B[0m \u001B[0;34m-=\u001B[0m \u001B[0makj\u001B[0m \u001B[0;31m# ak[j] = zero\u001B[0m\u001B[0;34m\u001B[0m\u001B[0;34m\u001B[0m\u001B[0m\n\u001B[1;32m    142\u001B[0m             \u001B[0;32mfor\u001B[0m \u001B[0ml\u001B[0m \u001B[0;32min\u001B[0m \u001B[0mrange\u001B[0m\u001B[0;34m(\u001B[0m\u001B[0mj\u001B[0m\u001B[0;34m+\u001B[0m\u001B[0;36m1\u001B[0m\u001B[0;34m,\u001B[0m \u001B[0mn\u001B[0m\u001B[0;34m)\u001B[0m\u001B[0;34m:\u001B[0m\u001B[0;34m\u001B[0m\u001B[0;34m\u001B[0m\u001B[0m\n\u001B[0;32m--> 143\u001B[0;31m                 \u001B[0mak\u001B[0m\u001B[0;34m[\u001B[0m\u001B[0ml\u001B[0m\u001B[0;34m]\u001B[0m \u001B[0;34m-=\u001B[0m \u001B[0makj\u001B[0m \u001B[0;34m*\u001B[0m \u001B[0mai\u001B[0m\u001B[0;34m[\u001B[0m\u001B[0ml\u001B[0m\u001B[0;34m]\u001B[0m\u001B[0;34m\u001B[0m\u001B[0;34m\u001B[0m\u001B[0m\n\u001B[0m\u001B[1;32m    144\u001B[0m \u001B[0;34m\u001B[0m\u001B[0m\n\u001B[1;32m    145\u001B[0m         \u001B[0;31m# next row\u001B[0m\u001B[0;34m\u001B[0m\u001B[0;34m\u001B[0m\u001B[0m\n",
      "\u001B[0;32m~/opt/anaconda3/lib/python3.9/site-packages/sympy/polys/fields.py\u001B[0m in \u001B[0;36m__sub__\u001B[0;34m(f, g)\u001B[0m\n\u001B[1;32m    447\u001B[0m                 \u001B[0;32mreturn\u001B[0m \u001B[0mf\u001B[0m\u001B[0;34m.\u001B[0m\u001B[0mnew\u001B[0m\u001B[0;34m(\u001B[0m\u001B[0mf\u001B[0m\u001B[0;34m.\u001B[0m\u001B[0mnumer\u001B[0m \u001B[0;34m-\u001B[0m \u001B[0mg\u001B[0m\u001B[0;34m.\u001B[0m\u001B[0mnumer\u001B[0m\u001B[0;34m,\u001B[0m \u001B[0mf\u001B[0m\u001B[0;34m.\u001B[0m\u001B[0mdenom\u001B[0m\u001B[0;34m)\u001B[0m\u001B[0;34m\u001B[0m\u001B[0;34m\u001B[0m\u001B[0m\n\u001B[1;32m    448\u001B[0m             \u001B[0;32melse\u001B[0m\u001B[0;34m:\u001B[0m\u001B[0;34m\u001B[0m\u001B[0;34m\u001B[0m\u001B[0m\n\u001B[0;32m--> 449\u001B[0;31m                 \u001B[0;32mreturn\u001B[0m \u001B[0mf\u001B[0m\u001B[0;34m.\u001B[0m\u001B[0mnew\u001B[0m\u001B[0;34m(\u001B[0m\u001B[0mf\u001B[0m\u001B[0;34m.\u001B[0m\u001B[0mnumer\u001B[0m\u001B[0;34m*\u001B[0m\u001B[0mg\u001B[0m\u001B[0;34m.\u001B[0m\u001B[0mdenom\u001B[0m \u001B[0;34m-\u001B[0m \u001B[0mf\u001B[0m\u001B[0;34m.\u001B[0m\u001B[0mdenom\u001B[0m\u001B[0;34m*\u001B[0m\u001B[0mg\u001B[0m\u001B[0;34m.\u001B[0m\u001B[0mnumer\u001B[0m\u001B[0;34m,\u001B[0m \u001B[0mf\u001B[0m\u001B[0;34m.\u001B[0m\u001B[0mdenom\u001B[0m\u001B[0;34m*\u001B[0m\u001B[0mg\u001B[0m\u001B[0;34m.\u001B[0m\u001B[0mdenom\u001B[0m\u001B[0;34m)\u001B[0m\u001B[0;34m\u001B[0m\u001B[0;34m\u001B[0m\u001B[0m\n\u001B[0m\u001B[1;32m    450\u001B[0m         \u001B[0;32melif\u001B[0m \u001B[0misinstance\u001B[0m\u001B[0;34m(\u001B[0m\u001B[0mg\u001B[0m\u001B[0;34m,\u001B[0m \u001B[0mfield\u001B[0m\u001B[0;34m.\u001B[0m\u001B[0mring\u001B[0m\u001B[0;34m.\u001B[0m\u001B[0mdtype\u001B[0m\u001B[0;34m)\u001B[0m\u001B[0;34m:\u001B[0m\u001B[0;34m\u001B[0m\u001B[0;34m\u001B[0m\u001B[0m\n\u001B[1;32m    451\u001B[0m             \u001B[0;32mreturn\u001B[0m \u001B[0mf\u001B[0m\u001B[0;34m.\u001B[0m\u001B[0mnew\u001B[0m\u001B[0;34m(\u001B[0m\u001B[0mf\u001B[0m\u001B[0;34m.\u001B[0m\u001B[0mnumer\u001B[0m \u001B[0;34m-\u001B[0m \u001B[0mf\u001B[0m\u001B[0;34m.\u001B[0m\u001B[0mdenom\u001B[0m\u001B[0;34m*\u001B[0m\u001B[0mg\u001B[0m\u001B[0;34m,\u001B[0m \u001B[0mf\u001B[0m\u001B[0;34m.\u001B[0m\u001B[0mdenom\u001B[0m\u001B[0;34m)\u001B[0m\u001B[0;34m\u001B[0m\u001B[0;34m\u001B[0m\u001B[0m\n",
      "\u001B[0;32m~/opt/anaconda3/lib/python3.9/site-packages/sympy/polys/fields.py\u001B[0m in \u001B[0;36mnew\u001B[0;34m(f, numer, denom)\u001B[0m\n\u001B[1;32m    297\u001B[0m         \u001B[0;32mreturn\u001B[0m \u001B[0mf\u001B[0m\u001B[0;34m.\u001B[0m\u001B[0m__class__\u001B[0m\u001B[0;34m(\u001B[0m\u001B[0mnumer\u001B[0m\u001B[0;34m,\u001B[0m \u001B[0mdenom\u001B[0m\u001B[0;34m)\u001B[0m\u001B[0;34m\u001B[0m\u001B[0;34m\u001B[0m\u001B[0m\n\u001B[1;32m    298\u001B[0m     \u001B[0;32mdef\u001B[0m \u001B[0mnew\u001B[0m\u001B[0;34m(\u001B[0m\u001B[0mf\u001B[0m\u001B[0;34m,\u001B[0m \u001B[0mnumer\u001B[0m\u001B[0;34m,\u001B[0m \u001B[0mdenom\u001B[0m\u001B[0;34m)\u001B[0m\u001B[0;34m:\u001B[0m\u001B[0;34m\u001B[0m\u001B[0;34m\u001B[0m\u001B[0m\n\u001B[0;32m--> 299\u001B[0;31m         \u001B[0;32mreturn\u001B[0m \u001B[0mf\u001B[0m\u001B[0;34m.\u001B[0m\u001B[0mraw_new\u001B[0m\u001B[0;34m(\u001B[0m\u001B[0;34m*\u001B[0m\u001B[0mnumer\u001B[0m\u001B[0;34m.\u001B[0m\u001B[0mcancel\u001B[0m\u001B[0;34m(\u001B[0m\u001B[0mdenom\u001B[0m\u001B[0;34m)\u001B[0m\u001B[0;34m)\u001B[0m\u001B[0;34m\u001B[0m\u001B[0;34m\u001B[0m\u001B[0m\n\u001B[0m\u001B[1;32m    300\u001B[0m \u001B[0;34m\u001B[0m\u001B[0m\n\u001B[1;32m    301\u001B[0m     \u001B[0;32mdef\u001B[0m \u001B[0mto_poly\u001B[0m\u001B[0;34m(\u001B[0m\u001B[0mf\u001B[0m\u001B[0;34m)\u001B[0m\u001B[0;34m:\u001B[0m\u001B[0;34m\u001B[0m\u001B[0;34m\u001B[0m\u001B[0m\n",
      "\u001B[0;32m~/opt/anaconda3/lib/python3.9/site-packages/sympy/polys/rings.py\u001B[0m in \u001B[0;36mcancel\u001B[0;34m(self, g)\u001B[0m\n\u001B[1;32m   2221\u001B[0m \u001B[0;34m\u001B[0m\u001B[0m\n\u001B[1;32m   2222\u001B[0m         \u001B[0;32mif\u001B[0m \u001B[0;32mnot\u001B[0m \u001B[0;34m(\u001B[0m\u001B[0mdomain\u001B[0m\u001B[0;34m.\u001B[0m\u001B[0mis_Field\u001B[0m \u001B[0;32mand\u001B[0m \u001B[0mdomain\u001B[0m\u001B[0;34m.\u001B[0m\u001B[0mhas_assoc_Ring\u001B[0m\u001B[0;34m)\u001B[0m\u001B[0;34m:\u001B[0m\u001B[0;34m\u001B[0m\u001B[0;34m\u001B[0m\u001B[0m\n\u001B[0;32m-> 2223\u001B[0;31m             \u001B[0m_\u001B[0m\u001B[0;34m,\u001B[0m \u001B[0mp\u001B[0m\u001B[0;34m,\u001B[0m \u001B[0mq\u001B[0m \u001B[0;34m=\u001B[0m \u001B[0mf\u001B[0m\u001B[0;34m.\u001B[0m\u001B[0mcofactors\u001B[0m\u001B[0;34m(\u001B[0m\u001B[0mg\u001B[0m\u001B[0;34m)\u001B[0m\u001B[0;34m\u001B[0m\u001B[0;34m\u001B[0m\u001B[0m\n\u001B[0m\u001B[1;32m   2224\u001B[0m         \u001B[0;32melse\u001B[0m\u001B[0;34m:\u001B[0m\u001B[0;34m\u001B[0m\u001B[0;34m\u001B[0m\u001B[0m\n\u001B[1;32m   2225\u001B[0m             \u001B[0mnew_ring\u001B[0m \u001B[0;34m=\u001B[0m \u001B[0mring\u001B[0m\u001B[0;34m.\u001B[0m\u001B[0mclone\u001B[0m\u001B[0;34m(\u001B[0m\u001B[0mdomain\u001B[0m\u001B[0;34m=\u001B[0m\u001B[0mdomain\u001B[0m\u001B[0;34m.\u001B[0m\u001B[0mget_ring\u001B[0m\u001B[0;34m(\u001B[0m\u001B[0;34m)\u001B[0m\u001B[0;34m)\u001B[0m\u001B[0;34m\u001B[0m\u001B[0;34m\u001B[0m\u001B[0m\n",
      "\u001B[0;32m~/opt/anaconda3/lib/python3.9/site-packages/sympy/polys/rings.py\u001B[0m in \u001B[0;36mcofactors\u001B[0;34m(f, g)\u001B[0m\n\u001B[1;32m   2137\u001B[0m \u001B[0;34m\u001B[0m\u001B[0m\n\u001B[1;32m   2138\u001B[0m         \u001B[0mJ\u001B[0m\u001B[0;34m,\u001B[0m \u001B[0;34m(\u001B[0m\u001B[0mf\u001B[0m\u001B[0;34m,\u001B[0m \u001B[0mg\u001B[0m\u001B[0;34m)\u001B[0m \u001B[0;34m=\u001B[0m \u001B[0mf\u001B[0m\u001B[0;34m.\u001B[0m\u001B[0mdeflate\u001B[0m\u001B[0;34m(\u001B[0m\u001B[0mg\u001B[0m\u001B[0;34m)\u001B[0m\u001B[0;34m\u001B[0m\u001B[0;34m\u001B[0m\u001B[0m\n\u001B[0;32m-> 2139\u001B[0;31m         \u001B[0mh\u001B[0m\u001B[0;34m,\u001B[0m \u001B[0mcff\u001B[0m\u001B[0;34m,\u001B[0m \u001B[0mcfg\u001B[0m \u001B[0;34m=\u001B[0m \u001B[0mf\u001B[0m\u001B[0;34m.\u001B[0m\u001B[0m_gcd\u001B[0m\u001B[0;34m(\u001B[0m\u001B[0mg\u001B[0m\u001B[0;34m)\u001B[0m\u001B[0;34m\u001B[0m\u001B[0;34m\u001B[0m\u001B[0m\n\u001B[0m\u001B[1;32m   2140\u001B[0m \u001B[0;34m\u001B[0m\u001B[0m\n\u001B[1;32m   2141\u001B[0m         \u001B[0;32mreturn\u001B[0m \u001B[0;34m(\u001B[0m\u001B[0mh\u001B[0m\u001B[0;34m.\u001B[0m\u001B[0minflate\u001B[0m\u001B[0;34m(\u001B[0m\u001B[0mJ\u001B[0m\u001B[0;34m)\u001B[0m\u001B[0;34m,\u001B[0m \u001B[0mcff\u001B[0m\u001B[0;34m.\u001B[0m\u001B[0minflate\u001B[0m\u001B[0;34m(\u001B[0m\u001B[0mJ\u001B[0m\u001B[0;34m)\u001B[0m\u001B[0;34m,\u001B[0m \u001B[0mcfg\u001B[0m\u001B[0;34m.\u001B[0m\u001B[0minflate\u001B[0m\u001B[0;34m(\u001B[0m\u001B[0mJ\u001B[0m\u001B[0;34m)\u001B[0m\u001B[0;34m)\u001B[0m\u001B[0;34m\u001B[0m\u001B[0;34m\u001B[0m\u001B[0m\n",
      "\u001B[0;32m~/opt/anaconda3/lib/python3.9/site-packages/sympy/polys/rings.py\u001B[0m in \u001B[0;36m_gcd\u001B[0;34m(f, g)\u001B[0m\n\u001B[1;32m   2172\u001B[0m             \u001B[0;32mreturn\u001B[0m \u001B[0mf\u001B[0m\u001B[0;34m.\u001B[0m\u001B[0m_gcd_ZZ\u001B[0m\u001B[0;34m(\u001B[0m\u001B[0mg\u001B[0m\u001B[0;34m)\u001B[0m\u001B[0;34m\u001B[0m\u001B[0;34m\u001B[0m\u001B[0m\n\u001B[1;32m   2173\u001B[0m         \u001B[0;32melse\u001B[0m\u001B[0;34m:\u001B[0m \u001B[0;31m# TODO: don't use dense representation (port PRS algorithms)\u001B[0m\u001B[0;34m\u001B[0m\u001B[0;34m\u001B[0m\u001B[0m\n\u001B[0;32m-> 2174\u001B[0;31m             \u001B[0;32mreturn\u001B[0m \u001B[0mring\u001B[0m\u001B[0;34m.\u001B[0m\u001B[0mdmp_inner_gcd\u001B[0m\u001B[0;34m(\u001B[0m\u001B[0mf\u001B[0m\u001B[0;34m,\u001B[0m \u001B[0mg\u001B[0m\u001B[0;34m)\u001B[0m\u001B[0;34m\u001B[0m\u001B[0;34m\u001B[0m\u001B[0m\n\u001B[0m\u001B[1;32m   2175\u001B[0m \u001B[0;34m\u001B[0m\u001B[0m\n\u001B[1;32m   2176\u001B[0m     \u001B[0;32mdef\u001B[0m \u001B[0m_gcd_ZZ\u001B[0m\u001B[0;34m(\u001B[0m\u001B[0mf\u001B[0m\u001B[0;34m,\u001B[0m \u001B[0mg\u001B[0m\u001B[0;34m)\u001B[0m\u001B[0;34m:\u001B[0m\u001B[0;34m\u001B[0m\u001B[0;34m\u001B[0m\u001B[0m\n",
      "\u001B[0;32m~/opt/anaconda3/lib/python3.9/site-packages/sympy/polys/compatibility.py\u001B[0m in \u001B[0;36mdmp_inner_gcd\u001B[0;34m(self, f, g)\u001B[0m\n\u001B[1;32m    661\u001B[0m         \u001B[0;32mreturn\u001B[0m \u001B[0;34m(\u001B[0m\u001B[0mself\u001B[0m\u001B[0;34m.\u001B[0m\u001B[0mfrom_dense\u001B[0m\u001B[0;34m(\u001B[0m\u001B[0mH\u001B[0m\u001B[0;34m)\u001B[0m\u001B[0;34m,\u001B[0m \u001B[0mself\u001B[0m\u001B[0;34m.\u001B[0m\u001B[0mfrom_dense\u001B[0m\u001B[0;34m(\u001B[0m\u001B[0mF\u001B[0m\u001B[0;34m)\u001B[0m\u001B[0;34m,\u001B[0m \u001B[0mself\u001B[0m\u001B[0;34m.\u001B[0m\u001B[0mfrom_dense\u001B[0m\u001B[0;34m(\u001B[0m\u001B[0mG\u001B[0m\u001B[0;34m)\u001B[0m\u001B[0;34m)\u001B[0m\u001B[0;34m\u001B[0m\u001B[0;34m\u001B[0m\u001B[0m\n\u001B[1;32m    662\u001B[0m     \u001B[0;32mdef\u001B[0m \u001B[0mdmp_inner_gcd\u001B[0m\u001B[0;34m(\u001B[0m\u001B[0mself\u001B[0m\u001B[0;34m,\u001B[0m \u001B[0mf\u001B[0m\u001B[0;34m,\u001B[0m \u001B[0mg\u001B[0m\u001B[0;34m)\u001B[0m\u001B[0;34m:\u001B[0m\u001B[0;34m\u001B[0m\u001B[0;34m\u001B[0m\u001B[0m\n\u001B[0;32m--> 663\u001B[0;31m         \u001B[0mH\u001B[0m\u001B[0;34m,\u001B[0m \u001B[0mF\u001B[0m\u001B[0;34m,\u001B[0m \u001B[0mG\u001B[0m \u001B[0;34m=\u001B[0m \u001B[0mdmp_inner_gcd\u001B[0m\u001B[0;34m(\u001B[0m\u001B[0mself\u001B[0m\u001B[0;34m.\u001B[0m\u001B[0mto_dense\u001B[0m\u001B[0;34m(\u001B[0m\u001B[0mf\u001B[0m\u001B[0;34m)\u001B[0m\u001B[0;34m,\u001B[0m \u001B[0mself\u001B[0m\u001B[0;34m.\u001B[0m\u001B[0mto_dense\u001B[0m\u001B[0;34m(\u001B[0m\u001B[0mg\u001B[0m\u001B[0;34m)\u001B[0m\u001B[0;34m,\u001B[0m \u001B[0mself\u001B[0m\u001B[0;34m.\u001B[0m\u001B[0mngens\u001B[0m\u001B[0;34m-\u001B[0m\u001B[0;36m1\u001B[0m\u001B[0;34m,\u001B[0m \u001B[0mself\u001B[0m\u001B[0;34m.\u001B[0m\u001B[0mdomain\u001B[0m\u001B[0;34m)\u001B[0m\u001B[0;34m\u001B[0m\u001B[0;34m\u001B[0m\u001B[0m\n\u001B[0m\u001B[1;32m    664\u001B[0m         \u001B[0;32mreturn\u001B[0m \u001B[0;34m(\u001B[0m\u001B[0mself\u001B[0m\u001B[0;34m.\u001B[0m\u001B[0mfrom_dense\u001B[0m\u001B[0;34m(\u001B[0m\u001B[0mH\u001B[0m\u001B[0;34m)\u001B[0m\u001B[0;34m,\u001B[0m \u001B[0mself\u001B[0m\u001B[0;34m.\u001B[0m\u001B[0mfrom_dense\u001B[0m\u001B[0;34m(\u001B[0m\u001B[0mF\u001B[0m\u001B[0;34m)\u001B[0m\u001B[0;34m,\u001B[0m \u001B[0mself\u001B[0m\u001B[0;34m.\u001B[0m\u001B[0mfrom_dense\u001B[0m\u001B[0;34m(\u001B[0m\u001B[0mG\u001B[0m\u001B[0;34m)\u001B[0m\u001B[0;34m)\u001B[0m\u001B[0;34m\u001B[0m\u001B[0;34m\u001B[0m\u001B[0m\n\u001B[1;32m    665\u001B[0m     \u001B[0;32mdef\u001B[0m \u001B[0mdup_gcd\u001B[0m\u001B[0;34m(\u001B[0m\u001B[0mself\u001B[0m\u001B[0;34m,\u001B[0m \u001B[0mf\u001B[0m\u001B[0;34m,\u001B[0m \u001B[0mg\u001B[0m\u001B[0;34m)\u001B[0m\u001B[0;34m:\u001B[0m\u001B[0;34m\u001B[0m\u001B[0;34m\u001B[0m\u001B[0m\n",
      "\u001B[0;32m~/opt/anaconda3/lib/python3.9/site-packages/sympy/polys/euclidtools.py\u001B[0m in \u001B[0;36mdmp_inner_gcd\u001B[0;34m(f, g, u, K)\u001B[0m\n\u001B[1;32m   1581\u001B[0m \u001B[0;34m\u001B[0m\u001B[0m\n\u001B[1;32m   1582\u001B[0m     \u001B[0mJ\u001B[0m\u001B[0;34m,\u001B[0m \u001B[0;34m(\u001B[0m\u001B[0mf\u001B[0m\u001B[0;34m,\u001B[0m \u001B[0mg\u001B[0m\u001B[0;34m)\u001B[0m \u001B[0;34m=\u001B[0m \u001B[0mdmp_multi_deflate\u001B[0m\u001B[0;34m(\u001B[0m\u001B[0;34m(\u001B[0m\u001B[0mf\u001B[0m\u001B[0;34m,\u001B[0m \u001B[0mg\u001B[0m\u001B[0;34m)\u001B[0m\u001B[0;34m,\u001B[0m \u001B[0mu\u001B[0m\u001B[0;34m,\u001B[0m \u001B[0mK\u001B[0m\u001B[0;34m)\u001B[0m\u001B[0;34m\u001B[0m\u001B[0;34m\u001B[0m\u001B[0m\n\u001B[0;32m-> 1583\u001B[0;31m     \u001B[0mh\u001B[0m\u001B[0;34m,\u001B[0m \u001B[0mcff\u001B[0m\u001B[0;34m,\u001B[0m \u001B[0mcfg\u001B[0m \u001B[0;34m=\u001B[0m \u001B[0m_dmp_inner_gcd\u001B[0m\u001B[0;34m(\u001B[0m\u001B[0mf\u001B[0m\u001B[0;34m,\u001B[0m \u001B[0mg\u001B[0m\u001B[0;34m,\u001B[0m \u001B[0mu\u001B[0m\u001B[0;34m,\u001B[0m \u001B[0mK\u001B[0m\u001B[0;34m)\u001B[0m\u001B[0;34m\u001B[0m\u001B[0;34m\u001B[0m\u001B[0m\n\u001B[0m\u001B[1;32m   1584\u001B[0m \u001B[0;34m\u001B[0m\u001B[0m\n\u001B[1;32m   1585\u001B[0m     return (dmp_inflate(h, J, u, K),\n",
      "\u001B[0;32m~/opt/anaconda3/lib/python3.9/site-packages/sympy/polys/euclidtools.py\u001B[0m in \u001B[0;36m_dmp_inner_gcd\u001B[0;34m(f, g, u, K)\u001B[0m\n\u001B[1;32m   1554\u001B[0m                 \u001B[0;32mpass\u001B[0m\u001B[0;34m\u001B[0m\u001B[0;34m\u001B[0m\u001B[0m\n\u001B[1;32m   1555\u001B[0m \u001B[0;34m\u001B[0m\u001B[0m\n\u001B[0;32m-> 1556\u001B[0;31m         \u001B[0;32mreturn\u001B[0m \u001B[0mdmp_rr_prs_gcd\u001B[0m\u001B[0;34m(\u001B[0m\u001B[0mf\u001B[0m\u001B[0;34m,\u001B[0m \u001B[0mg\u001B[0m\u001B[0;34m,\u001B[0m \u001B[0mu\u001B[0m\u001B[0;34m,\u001B[0m \u001B[0mK\u001B[0m\u001B[0;34m)\u001B[0m\u001B[0;34m\u001B[0m\u001B[0;34m\u001B[0m\u001B[0m\n\u001B[0m\u001B[1;32m   1557\u001B[0m \u001B[0;34m\u001B[0m\u001B[0m\n\u001B[1;32m   1558\u001B[0m \u001B[0;34m\u001B[0m\u001B[0m\n",
      "\u001B[0;32m~/opt/anaconda3/lib/python3.9/site-packages/sympy/polys/euclidtools.py\u001B[0m in \u001B[0;36mdmp_rr_prs_gcd\u001B[0;34m(f, g, u, K)\u001B[0m\n\u001B[1;32m   1065\u001B[0m     \u001B[0mgc\u001B[0m\u001B[0;34m,\u001B[0m \u001B[0mG\u001B[0m \u001B[0;34m=\u001B[0m \u001B[0mdmp_primitive\u001B[0m\u001B[0;34m(\u001B[0m\u001B[0mg\u001B[0m\u001B[0;34m,\u001B[0m \u001B[0mu\u001B[0m\u001B[0;34m,\u001B[0m \u001B[0mK\u001B[0m\u001B[0;34m)\u001B[0m\u001B[0;34m\u001B[0m\u001B[0;34m\u001B[0m\u001B[0m\n\u001B[1;32m   1066\u001B[0m \u001B[0;34m\u001B[0m\u001B[0m\n\u001B[0;32m-> 1067\u001B[0;31m     \u001B[0mh\u001B[0m \u001B[0;34m=\u001B[0m \u001B[0mdmp_subresultants\u001B[0m\u001B[0;34m(\u001B[0m\u001B[0mF\u001B[0m\u001B[0;34m,\u001B[0m \u001B[0mG\u001B[0m\u001B[0;34m,\u001B[0m \u001B[0mu\u001B[0m\u001B[0;34m,\u001B[0m \u001B[0mK\u001B[0m\u001B[0;34m)\u001B[0m\u001B[0;34m[\u001B[0m\u001B[0;34m-\u001B[0m\u001B[0;36m1\u001B[0m\u001B[0;34m]\u001B[0m\u001B[0;34m\u001B[0m\u001B[0;34m\u001B[0m\u001B[0m\n\u001B[0m\u001B[1;32m   1068\u001B[0m     \u001B[0mc\u001B[0m\u001B[0;34m,\u001B[0m \u001B[0m_\u001B[0m\u001B[0;34m,\u001B[0m \u001B[0m_\u001B[0m \u001B[0;34m=\u001B[0m \u001B[0mdmp_rr_prs_gcd\u001B[0m\u001B[0;34m(\u001B[0m\u001B[0mfc\u001B[0m\u001B[0;34m,\u001B[0m \u001B[0mgc\u001B[0m\u001B[0;34m,\u001B[0m \u001B[0mu\u001B[0m \u001B[0;34m-\u001B[0m \u001B[0;36m1\u001B[0m\u001B[0;34m,\u001B[0m \u001B[0mK\u001B[0m\u001B[0;34m)\u001B[0m\u001B[0;34m\u001B[0m\u001B[0;34m\u001B[0m\u001B[0m\n\u001B[1;32m   1069\u001B[0m \u001B[0;34m\u001B[0m\u001B[0m\n",
      "\u001B[0;32m~/opt/anaconda3/lib/python3.9/site-packages/sympy/polys/euclidtools.py\u001B[0m in \u001B[0;36mdmp_subresultants\u001B[0;34m(f, g, u, K)\u001B[0m\n\u001B[1;32m    548\u001B[0m \u001B[0;34m\u001B[0m\u001B[0m\n\u001B[1;32m    549\u001B[0m     \"\"\"\n\u001B[0;32m--> 550\u001B[0;31m     \u001B[0;32mreturn\u001B[0m \u001B[0mdmp_inner_subresultants\u001B[0m\u001B[0;34m(\u001B[0m\u001B[0mf\u001B[0m\u001B[0;34m,\u001B[0m \u001B[0mg\u001B[0m\u001B[0;34m,\u001B[0m \u001B[0mu\u001B[0m\u001B[0;34m,\u001B[0m \u001B[0mK\u001B[0m\u001B[0;34m)\u001B[0m\u001B[0;34m[\u001B[0m\u001B[0;36m0\u001B[0m\u001B[0;34m]\u001B[0m\u001B[0;34m\u001B[0m\u001B[0;34m\u001B[0m\u001B[0m\n\u001B[0m\u001B[1;32m    551\u001B[0m \u001B[0;34m\u001B[0m\u001B[0m\n\u001B[1;32m    552\u001B[0m \u001B[0;34m\u001B[0m\u001B[0m\n",
      "\u001B[0;32m~/opt/anaconda3/lib/python3.9/site-packages/sympy/polys/euclidtools.py\u001B[0m in \u001B[0;36mdmp_inner_subresultants\u001B[0;34m(f, g, u, K)\u001B[0m\n\u001B[1;32m    511\u001B[0m                     dmp_pow(c, d, v, K), v, K)\n\u001B[1;32m    512\u001B[0m \u001B[0;34m\u001B[0m\u001B[0m\n\u001B[0;32m--> 513\u001B[0;31m         \u001B[0mh\u001B[0m \u001B[0;34m=\u001B[0m \u001B[0mdmp_prem\u001B[0m\u001B[0;34m(\u001B[0m\u001B[0mf\u001B[0m\u001B[0;34m,\u001B[0m \u001B[0mg\u001B[0m\u001B[0;34m,\u001B[0m \u001B[0mu\u001B[0m\u001B[0;34m,\u001B[0m \u001B[0mK\u001B[0m\u001B[0;34m)\u001B[0m\u001B[0;34m\u001B[0m\u001B[0;34m\u001B[0m\u001B[0m\n\u001B[0m\u001B[1;32m    514\u001B[0m         \u001B[0mh\u001B[0m \u001B[0;34m=\u001B[0m \u001B[0;34m[\u001B[0m \u001B[0mdmp_quo\u001B[0m\u001B[0;34m(\u001B[0m\u001B[0mch\u001B[0m\u001B[0;34m,\u001B[0m \u001B[0mb\u001B[0m\u001B[0;34m,\u001B[0m \u001B[0mv\u001B[0m\u001B[0;34m,\u001B[0m \u001B[0mK\u001B[0m\u001B[0;34m)\u001B[0m \u001B[0;32mfor\u001B[0m \u001B[0mch\u001B[0m \u001B[0;32min\u001B[0m \u001B[0mh\u001B[0m \u001B[0;34m]\u001B[0m\u001B[0;34m\u001B[0m\u001B[0;34m\u001B[0m\u001B[0m\n\u001B[1;32m    515\u001B[0m \u001B[0;34m\u001B[0m\u001B[0m\n",
      "\u001B[0;32m~/opt/anaconda3/lib/python3.9/site-packages/sympy/polys/densearith.py\u001B[0m in \u001B[0;36mdmp_prem\u001B[0;34m(f, g, u, K)\u001B[0m\n\u001B[1;32m   1235\u001B[0m         \u001B[0mj\u001B[0m\u001B[0;34m,\u001B[0m \u001B[0mN\u001B[0m \u001B[0;34m=\u001B[0m \u001B[0mdr\u001B[0m \u001B[0;34m-\u001B[0m \u001B[0mdg\u001B[0m\u001B[0;34m,\u001B[0m \u001B[0mN\u001B[0m \u001B[0;34m-\u001B[0m \u001B[0;36m1\u001B[0m\u001B[0;34m\u001B[0m\u001B[0;34m\u001B[0m\u001B[0m\n\u001B[1;32m   1236\u001B[0m \u001B[0;34m\u001B[0m\u001B[0m\n\u001B[0;32m-> 1237\u001B[0;31m         \u001B[0mR\u001B[0m \u001B[0;34m=\u001B[0m \u001B[0mdmp_mul_term\u001B[0m\u001B[0;34m(\u001B[0m\u001B[0mr\u001B[0m\u001B[0;34m,\u001B[0m \u001B[0mlc_g\u001B[0m\u001B[0;34m,\u001B[0m \u001B[0;36m0\u001B[0m\u001B[0;34m,\u001B[0m \u001B[0mu\u001B[0m\u001B[0;34m,\u001B[0m \u001B[0mK\u001B[0m\u001B[0;34m)\u001B[0m\u001B[0;34m\u001B[0m\u001B[0;34m\u001B[0m\u001B[0m\n\u001B[0m\u001B[1;32m   1238\u001B[0m         \u001B[0mG\u001B[0m \u001B[0;34m=\u001B[0m \u001B[0mdmp_mul_term\u001B[0m\u001B[0;34m(\u001B[0m\u001B[0mg\u001B[0m\u001B[0;34m,\u001B[0m \u001B[0mlc_r\u001B[0m\u001B[0;34m,\u001B[0m \u001B[0mj\u001B[0m\u001B[0;34m,\u001B[0m \u001B[0mu\u001B[0m\u001B[0;34m,\u001B[0m \u001B[0mK\u001B[0m\u001B[0;34m)\u001B[0m\u001B[0;34m\u001B[0m\u001B[0;34m\u001B[0m\u001B[0m\n\u001B[1;32m   1239\u001B[0m         \u001B[0mr\u001B[0m \u001B[0;34m=\u001B[0m \u001B[0mdmp_sub\u001B[0m\u001B[0;34m(\u001B[0m\u001B[0mR\u001B[0m\u001B[0;34m,\u001B[0m \u001B[0mG\u001B[0m\u001B[0;34m,\u001B[0m \u001B[0mu\u001B[0m\u001B[0;34m,\u001B[0m \u001B[0mK\u001B[0m\u001B[0;34m)\u001B[0m\u001B[0;34m\u001B[0m\u001B[0;34m\u001B[0m\u001B[0m\n",
      "\u001B[0;32m~/opt/anaconda3/lib/python3.9/site-packages/sympy/polys/densearith.py\u001B[0m in \u001B[0;36mdmp_mul_term\u001B[0;34m(f, c, i, u, K)\u001B[0m\n\u001B[1;32m    182\u001B[0m         \u001B[0;32mreturn\u001B[0m \u001B[0mdmp_zero\u001B[0m\u001B[0;34m(\u001B[0m\u001B[0mu\u001B[0m\u001B[0;34m)\u001B[0m\u001B[0;34m\u001B[0m\u001B[0;34m\u001B[0m\u001B[0m\n\u001B[1;32m    183\u001B[0m     \u001B[0;32melse\u001B[0m\u001B[0;34m:\u001B[0m\u001B[0;34m\u001B[0m\u001B[0;34m\u001B[0m\u001B[0m\n\u001B[0;32m--> 184\u001B[0;31m         \u001B[0;32mreturn\u001B[0m \u001B[0;34m[\u001B[0m \u001B[0mdmp_mul\u001B[0m\u001B[0;34m(\u001B[0m\u001B[0mcf\u001B[0m\u001B[0;34m,\u001B[0m \u001B[0mc\u001B[0m\u001B[0;34m,\u001B[0m \u001B[0mv\u001B[0m\u001B[0;34m,\u001B[0m \u001B[0mK\u001B[0m\u001B[0;34m)\u001B[0m \u001B[0;32mfor\u001B[0m \u001B[0mcf\u001B[0m \u001B[0;32min\u001B[0m \u001B[0mf\u001B[0m \u001B[0;34m]\u001B[0m \u001B[0;34m+\u001B[0m \u001B[0mdmp_zeros\u001B[0m\u001B[0;34m(\u001B[0m\u001B[0mi\u001B[0m\u001B[0;34m,\u001B[0m \u001B[0mv\u001B[0m\u001B[0;34m,\u001B[0m \u001B[0mK\u001B[0m\u001B[0;34m)\u001B[0m\u001B[0;34m\u001B[0m\u001B[0;34m\u001B[0m\u001B[0m\n\u001B[0m\u001B[1;32m    185\u001B[0m \u001B[0;34m\u001B[0m\u001B[0m\n\u001B[1;32m    186\u001B[0m \u001B[0;34m\u001B[0m\u001B[0m\n",
      "\u001B[0;32m~/opt/anaconda3/lib/python3.9/site-packages/sympy/polys/densearith.py\u001B[0m in \u001B[0;36m<listcomp>\u001B[0;34m(.0)\u001B[0m\n\u001B[1;32m    182\u001B[0m         \u001B[0;32mreturn\u001B[0m \u001B[0mdmp_zero\u001B[0m\u001B[0;34m(\u001B[0m\u001B[0mu\u001B[0m\u001B[0;34m)\u001B[0m\u001B[0;34m\u001B[0m\u001B[0;34m\u001B[0m\u001B[0m\n\u001B[1;32m    183\u001B[0m     \u001B[0;32melse\u001B[0m\u001B[0;34m:\u001B[0m\u001B[0;34m\u001B[0m\u001B[0;34m\u001B[0m\u001B[0m\n\u001B[0;32m--> 184\u001B[0;31m         \u001B[0;32mreturn\u001B[0m \u001B[0;34m[\u001B[0m \u001B[0mdmp_mul\u001B[0m\u001B[0;34m(\u001B[0m\u001B[0mcf\u001B[0m\u001B[0;34m,\u001B[0m \u001B[0mc\u001B[0m\u001B[0;34m,\u001B[0m \u001B[0mv\u001B[0m\u001B[0;34m,\u001B[0m \u001B[0mK\u001B[0m\u001B[0;34m)\u001B[0m \u001B[0;32mfor\u001B[0m \u001B[0mcf\u001B[0m \u001B[0;32min\u001B[0m \u001B[0mf\u001B[0m \u001B[0;34m]\u001B[0m \u001B[0;34m+\u001B[0m \u001B[0mdmp_zeros\u001B[0m\u001B[0;34m(\u001B[0m\u001B[0mi\u001B[0m\u001B[0;34m,\u001B[0m \u001B[0mv\u001B[0m\u001B[0;34m,\u001B[0m \u001B[0mK\u001B[0m\u001B[0;34m)\u001B[0m\u001B[0;34m\u001B[0m\u001B[0;34m\u001B[0m\u001B[0m\n\u001B[0m\u001B[1;32m    185\u001B[0m \u001B[0;34m\u001B[0m\u001B[0m\n\u001B[1;32m    186\u001B[0m \u001B[0;34m\u001B[0m\u001B[0m\n",
      "\u001B[0;32m~/opt/anaconda3/lib/python3.9/site-packages/sympy/polys/densearith.py\u001B[0m in \u001B[0;36mdmp_mul\u001B[0;34m(f, g, u, K)\u001B[0m\n\u001B[1;32m    805\u001B[0m     \"\"\"\n\u001B[1;32m    806\u001B[0m     \u001B[0;32mif\u001B[0m \u001B[0;32mnot\u001B[0m \u001B[0mu\u001B[0m\u001B[0;34m:\u001B[0m\u001B[0;34m\u001B[0m\u001B[0;34m\u001B[0m\u001B[0m\n\u001B[0;32m--> 807\u001B[0;31m         \u001B[0;32mreturn\u001B[0m \u001B[0mdup_mul\u001B[0m\u001B[0;34m(\u001B[0m\u001B[0mf\u001B[0m\u001B[0;34m,\u001B[0m \u001B[0mg\u001B[0m\u001B[0;34m,\u001B[0m \u001B[0mK\u001B[0m\u001B[0;34m)\u001B[0m\u001B[0;34m\u001B[0m\u001B[0;34m\u001B[0m\u001B[0m\n\u001B[0m\u001B[1;32m    808\u001B[0m \u001B[0;34m\u001B[0m\u001B[0m\n\u001B[1;32m    809\u001B[0m     \u001B[0;32mif\u001B[0m \u001B[0mf\u001B[0m \u001B[0;34m==\u001B[0m \u001B[0mg\u001B[0m\u001B[0;34m:\u001B[0m\u001B[0;34m\u001B[0m\u001B[0;34m\u001B[0m\u001B[0m\n",
      "\u001B[0;32m~/opt/anaconda3/lib/python3.9/site-packages/sympy/polys/densearith.py\u001B[0m in \u001B[0;36mdup_mul\u001B[0;34m(f, g, K)\u001B[0m\n\u001B[1;32m    769\u001B[0m             \u001B[0mh\u001B[0m\u001B[0;34m.\u001B[0m\u001B[0mappend\u001B[0m\u001B[0;34m(\u001B[0m\u001B[0mcoeff\u001B[0m\u001B[0;34m)\u001B[0m\u001B[0;34m\u001B[0m\u001B[0;34m\u001B[0m\u001B[0m\n\u001B[1;32m    770\u001B[0m \u001B[0;34m\u001B[0m\u001B[0m\n\u001B[0;32m--> 771\u001B[0;31m         \u001B[0;32mreturn\u001B[0m \u001B[0mdup_strip\u001B[0m\u001B[0;34m(\u001B[0m\u001B[0mh\u001B[0m\u001B[0;34m)\u001B[0m\u001B[0;34m\u001B[0m\u001B[0;34m\u001B[0m\u001B[0m\n\u001B[0m\u001B[1;32m    772\u001B[0m     \u001B[0;32melse\u001B[0m\u001B[0;34m:\u001B[0m\u001B[0;34m\u001B[0m\u001B[0;34m\u001B[0m\u001B[0m\n\u001B[1;32m    773\u001B[0m         \u001B[0;31m# Use Karatsuba's algorithm (divide and conquer), see e.g.:\u001B[0m\u001B[0;34m\u001B[0m\u001B[0;34m\u001B[0m\u001B[0m\n",
      "\u001B[0;32m~/opt/anaconda3/lib/python3.9/site-packages/sympy/polys/densebasic.py\u001B[0m in \u001B[0;36mdup_strip\u001B[0;34m(f)\u001B[0m\n\u001B[1;32m    263\u001B[0m \u001B[0;34m\u001B[0m\u001B[0m\n\u001B[1;32m    264\u001B[0m     \"\"\"\n\u001B[0;32m--> 265\u001B[0;31m     \u001B[0;32mif\u001B[0m \u001B[0;32mnot\u001B[0m \u001B[0mf\u001B[0m \u001B[0;32mor\u001B[0m \u001B[0mf\u001B[0m\u001B[0;34m[\u001B[0m\u001B[0;36m0\u001B[0m\u001B[0;34m]\u001B[0m\u001B[0;34m:\u001B[0m\u001B[0;34m\u001B[0m\u001B[0;34m\u001B[0m\u001B[0m\n\u001B[0m\u001B[1;32m    266\u001B[0m         \u001B[0;32mreturn\u001B[0m \u001B[0mf\u001B[0m\u001B[0;34m\u001B[0m\u001B[0;34m\u001B[0m\u001B[0m\n\u001B[1;32m    267\u001B[0m \u001B[0;34m\u001B[0m\u001B[0m\n",
      "\u001B[0;32m~/opt/anaconda3/lib/python3.9/site-packages/sympy/polys/domains/gaussiandomains.py\u001B[0m in \u001B[0;36m__bool__\u001B[0;34m(self)\u001B[0m\n\u001B[1;32m    120\u001B[0m \u001B[0;34m\u001B[0m\u001B[0m\n\u001B[1;32m    121\u001B[0m     \u001B[0;32mdef\u001B[0m \u001B[0m__bool__\u001B[0m\u001B[0;34m(\u001B[0m\u001B[0mself\u001B[0m\u001B[0;34m)\u001B[0m\u001B[0;34m:\u001B[0m\u001B[0;34m\u001B[0m\u001B[0;34m\u001B[0m\u001B[0m\n\u001B[0;32m--> 122\u001B[0;31m         \u001B[0;32mreturn\u001B[0m \u001B[0mbool\u001B[0m\u001B[0;34m(\u001B[0m\u001B[0mself\u001B[0m\u001B[0;34m.\u001B[0m\u001B[0mx\u001B[0m\u001B[0;34m)\u001B[0m \u001B[0;32mor\u001B[0m \u001B[0mbool\u001B[0m\u001B[0;34m(\u001B[0m\u001B[0mself\u001B[0m\u001B[0;34m.\u001B[0m\u001B[0my\u001B[0m\u001B[0;34m)\u001B[0m\u001B[0;34m\u001B[0m\u001B[0;34m\u001B[0m\u001B[0m\n\u001B[0m\u001B[1;32m    123\u001B[0m \u001B[0;34m\u001B[0m\u001B[0m\n\u001B[1;32m    124\u001B[0m     \u001B[0;32mdef\u001B[0m \u001B[0mquadrant\u001B[0m\u001B[0;34m(\u001B[0m\u001B[0mself\u001B[0m\u001B[0;34m)\u001B[0m\u001B[0;34m:\u001B[0m\u001B[0;34m\u001B[0m\u001B[0;34m\u001B[0m\u001B[0m\n",
      "\u001B[0;31mKeyboardInterrupt\u001B[0m: "
     ]
    }
   ],
   "source": [
    "a, b = smp.symbols('a b', real=True, positive=True)\n",
    "#f = 1/((a-smp.cos(x))**2 + (b-smp.sin(x))**2)\n",
    "#smp.integrate(f, (x, 0, 2*smp.pi)).simplify()"
   ]
  },
  {
   "cell_type": "markdown",
   "id": "9a80b3f8",
   "metadata": {},
   "source": [
    "This won't run as this does not have an analytical solution. We must solve it numerically, and thus we need choose values of $a$ and $b$ each time"
   ]
  },
  {
   "cell_type": "code",
   "execution_count": 8,
   "id": "5b06e8f2",
   "metadata": {},
   "outputs": [
    {
     "data": {
      "text/plain": [
       "(0.5235987755982989, 1.9168823883823662e-13)"
      ]
     },
     "execution_count": 8,
     "metadata": {},
     "output_type": "execute_result"
    }
   ],
   "source": [
    "f = lambda x: 1/((a-np.cos(x))**2 + (b-np.sin(x))**2)\n",
    "a, b = 2, 3\n",
    "quad(f, 0, 2*np.pi)"
   ]
  },
  {
   "cell_type": "markdown",
   "id": "38a8f2be",
   "metadata": {},
   "source": [
    "We can solve this for many different values of $a$ and $b$ quickly as follows:"
   ]
  },
  {
   "cell_type": "code",
   "execution_count": 10,
   "id": "75c3a9e5",
   "metadata": {},
   "outputs": [],
   "source": [
    "def f(x, a, b):\n",
    "    return 1/((a-np.cos(x))**2 + (b-np.sin(x))**2)"
   ]
  },
  {
   "cell_type": "code",
   "execution_count": 11,
   "id": "c7ad8108",
   "metadata": {},
   "outputs": [],
   "source": [
    "a_array = np.arange(2,10,1)\n",
    "b_array = np.arange(2,10,1)\n",
    "integrals = [[a, b, quad(f, 0, 2*np.pi, args=(a,b))[0]] for a in a_array for b in b_array]\n",
    "integrals"
   ]
  },
  {
   "cell_type": "markdown",
   "id": "feb60505",
   "metadata": {},
   "source": [
    "To transpose it can be converted to an Numpy array: "
   ]
  },
  {
   "cell_type": "code",
   "execution_count": 13,
   "id": "c823b6a6",
   "metadata": {},
   "outputs": [
    {
     "data": {
      "text/plain": [
       "array([[2.        , 2.        , 2.        , 2.        , 2.        ,\n",
       "        2.        , 2.        , 2.        , 3.        , 3.        ,\n",
       "        3.        , 3.        , 3.        , 3.        , 3.        ,\n",
       "        3.        , 4.        , 4.        , 4.        , 4.        ,\n",
       "        4.        , 4.        , 4.        , 4.        , 5.        ,\n",
       "        5.        , 5.        , 5.        , 5.        , 5.        ,\n",
       "        5.        , 5.        , 6.        , 6.        , 6.        ,\n",
       "        6.        , 6.        , 6.        , 6.        , 6.        ,\n",
       "        7.        , 7.        , 7.        , 7.        , 7.        ,\n",
       "        7.        , 7.        , 7.        , 8.        , 8.        ,\n",
       "        8.        , 8.        , 8.        , 8.        , 8.        ,\n",
       "        8.        , 9.        , 9.        , 9.        , 9.        ,\n",
       "        9.        , 9.        , 9.        , 9.        ],\n",
       "       [2.        , 3.        , 4.        , 5.        , 6.        ,\n",
       "        7.        , 8.        , 9.        , 2.        , 3.        ,\n",
       "        4.        , 5.        , 6.        , 7.        , 8.        ,\n",
       "        9.        , 2.        , 3.        , 4.        , 5.        ,\n",
       "        6.        , 7.        , 8.        , 9.        , 2.        ,\n",
       "        3.        , 4.        , 5.        , 6.        , 7.        ,\n",
       "        8.        , 9.        , 2.        , 3.        , 4.        ,\n",
       "        5.        , 6.        , 7.        , 8.        , 9.        ,\n",
       "        2.        , 3.        , 4.        , 5.        , 6.        ,\n",
       "        7.        , 8.        , 9.        , 2.        , 3.        ,\n",
       "        4.        , 5.        , 6.        , 7.        , 8.        ,\n",
       "        9.        , 2.        , 3.        , 4.        , 5.        ,\n",
       "        6.        , 7.        , 8.        , 9.        ],\n",
       "       [0.8975979 , 0.52359878, 0.33069396, 0.22439948, 0.16110732,\n",
       "        0.12083049, 0.09377889, 0.07479983, 0.52359878, 0.36959914,\n",
       "        0.26179939, 0.19039955, 0.14279967, 0.11023132, 0.08726646,\n",
       "        0.07059759, 0.33069396, 0.26179939, 0.2026834 , 0.15707963,\n",
       "        0.12319971, 0.09817477, 0.07953399, 0.06544985, 0.22439948,\n",
       "        0.19039955, 0.15707963, 0.12822827, 0.10471976, 0.08607103,\n",
       "        0.07139983, 0.05983986, 0.16110732, 0.14279967, 0.12319971,\n",
       "        0.10471976, 0.08849557, 0.07479983, 0.06346652, 0.05416539,\n",
       "        0.12083049, 0.11023132, 0.09817477, 0.08607103, 0.07479983,\n",
       "        0.06477511, 0.05609987, 0.04870686, 0.09377889, 0.08726646,\n",
       "        0.07953399, 0.07139983, 0.06346652, 0.05609987, 0.0494739 ,\n",
       "        0.04363323, 0.07479983, 0.07059759, 0.06544985, 0.05983986,\n",
       "        0.05416539, 0.04870686, 0.04363323, 0.039026  ]])"
      ]
     },
     "execution_count": 13,
     "metadata": {},
     "output_type": "execute_result"
    }
   ],
   "source": [
    "np.array(integrals).T"
   ]
  },
  {
   "cell_type": "code",
   "execution_count": 14,
   "id": "ce277766",
   "metadata": {},
   "outputs": [
    {
     "data": {
      "text/plain": [
       "array([0.8975979 , 0.52359878, 0.33069396, 0.22439948, 0.16110732,\n",
       "       0.12083049, 0.09377889, 0.07479983, 0.52359878, 0.36959914,\n",
       "       0.26179939, 0.19039955, 0.14279967, 0.11023132, 0.08726646,\n",
       "       0.07059759, 0.33069396, 0.26179939, 0.2026834 , 0.15707963,\n",
       "       0.12319971, 0.09817477, 0.07953399, 0.06544985, 0.22439948,\n",
       "       0.19039955, 0.15707963, 0.12822827, 0.10471976, 0.08607103,\n",
       "       0.07139983, 0.05983986, 0.16110732, 0.14279967, 0.12319971,\n",
       "       0.10471976, 0.08849557, 0.07479983, 0.06346652, 0.05416539,\n",
       "       0.12083049, 0.11023132, 0.09817477, 0.08607103, 0.07479983,\n",
       "       0.06477511, 0.05609987, 0.04870686, 0.09377889, 0.08726646,\n",
       "       0.07953399, 0.07139983, 0.06346652, 0.05609987, 0.0494739 ,\n",
       "       0.04363323, 0.07479983, 0.07059759, 0.06544985, 0.05983986,\n",
       "       0.05416539, 0.04870686, 0.04363323, 0.039026  ])"
      ]
     },
     "execution_count": 14,
     "metadata": {},
     "output_type": "execute_result"
    }
   ],
   "source": [
    "np.array(integrals).T[2]"
   ]
  },
  {
   "cell_type": "markdown",
   "id": "b0574790",
   "metadata": {},
   "source": [
    "# Numerical Case\n",
    "\n",
    "This is the case where one collects actual data and wants to find the integral\n",
    "\n",
    "## Example: Electric Pulses in particle physics experiments"
   ]
  },
  {
   "cell_type": "code",
   "execution_count": null,
   "id": "de3951d7",
   "metadata": {},
   "outputs": [],
   "source": []
  }
 ],
 "metadata": {
  "kernelspec": {
   "display_name": "Python 3 (ipykernel)",
   "language": "python",
   "name": "python3"
  },
  "language_info": {
   "codemirror_mode": {
    "name": "ipython",
    "version": 3
   },
   "file_extension": ".py",
   "mimetype": "text/x-python",
   "name": "python",
   "nbconvert_exporter": "python",
   "pygments_lexer": "ipython3",
   "version": "3.10.8"
  },
  "vscode": {
   "interpreter": {
    "hash": "aee8b7b246df8f9039afb4144a1f6fd8d2ca17a180786b69acc140d282b71a49"
   }
  }
 },
 "nbformat": 4,
 "nbformat_minor": 5
}
