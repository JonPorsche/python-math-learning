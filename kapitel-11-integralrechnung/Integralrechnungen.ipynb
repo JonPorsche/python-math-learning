{
 "cells": [
  {
   "cell_type": "code",
   "execution_count": 1,
   "id": "874123c0",
   "metadata": {},
   "outputs": [],
   "source": [
    "import numpy as np\n",
    "import scipy as sp\n",
    "import sympy as smp\n",
    "import matplotlib.pyplot as plt\n",
    "from scipy.integrate import quad\n",
    "from scipy.integrate import cumulative_trapezoid\n",
    "x = smp.symbols('x', real=True)"
   ]
  },
  {
   "cell_type": "code",
   "execution_count": 18,
   "id": "8bc501e0",
   "metadata": {},
   "outputs": [
    {
     "data": {
      "text/latex": [
       "$\\displaystyle - \\frac{3}{4} + 2 \\log{\\left(2 \\right)}$"
      ],
      "text/plain": [
       "-3/4 + 2*log(2)"
      ]
     },
     "execution_count": 18,
     "metadata": {},
     "output_type": "execute_result"
    }
   ],
   "source": [
    "f = x * smp.ln(x)\n",
    "smp.integrate(f, (x, 1, 2))"
   ]
  },
  {
   "cell_type": "code",
   "execution_count": 16,
   "id": "c260290a",
   "metadata": {},
   "outputs": [
    {
     "data": {
      "text/latex": [
       "$\\displaystyle \\frac{e^{x} \\sin{\\left(x \\right)}}{2} - \\frac{e^{x} \\cos{\\left(x \\right)}}{2}$"
      ],
      "text/plain": [
       "exp(x)*sin(x)/2 - exp(x)*cos(x)/2"
      ]
     },
     "execution_count": 16,
     "metadata": {},
     "output_type": "execute_result"
    }
   ],
   "source": [
    "f = smp.exp(x) * smp.sin(x)\n",
    "smp.integrate(f, x)"
   ]
  },
  {
   "cell_type": "code",
   "execution_count": 2,
   "id": "56673902",
   "metadata": {},
   "outputs": [
    {
     "data": {
      "text/latex": [
       "$\\displaystyle 2 x$"
      ],
      "text/plain": [
       "2*x"
      ]
     },
     "execution_count": 2,
     "metadata": {},
     "output_type": "execute_result"
    }
   ],
   "source": [
    "x = smp.symbols('x', real=True)\n",
    "f = 2\n",
    "smp.integrate(f, x)"
   ]
  },
  {
   "cell_type": "code",
   "execution_count": 3,
   "id": "0ec4f97a",
   "metadata": {},
   "outputs": [
    {
     "data": {
      "text/latex": [
       "$\\displaystyle \\log{\\left(17 \\right)}$"
      ],
      "text/plain": [
       "log(17)"
      ]
     },
     "execution_count": 3,
     "metadata": {},
     "output_type": "execute_result"
    }
   ],
   "source": [
    "smp.ln(17)"
   ]
  },
  {
   "cell_type": "code",
   "execution_count": 5,
   "id": "4847d598",
   "metadata": {},
   "outputs": [
    {
     "data": {
      "text/latex": [
       "$\\displaystyle e^{2}$"
      ],
      "text/plain": [
       "exp(2)"
      ]
     },
     "execution_count": 5,
     "metadata": {},
     "output_type": "execute_result"
    }
   ],
   "source": [
    "smp.exp(2)"
   ]
  },
  {
   "cell_type": "code",
   "execution_count": 5,
   "id": "a1e94633",
   "metadata": {},
   "outputs": [
    {
     "data": {
      "text/latex": [
       "$\\displaystyle \\log{\\left(x - 1 \\right)}$"
      ],
      "text/plain": [
       "log(x - 1)"
      ]
     },
     "execution_count": 5,
     "metadata": {},
     "output_type": "execute_result"
    }
   ],
   "source": [
    "f = 1/(x-1)\n",
    "smp.integrate(f,x).simplify()"
   ]
  },
  {
   "cell_type": "code",
   "execution_count": null,
   "id": "0226f0e1",
   "metadata": {},
   "outputs": [],
   "source": []
  }
 ],
 "metadata": {
  "kernelspec": {
   "display_name": "Python 3 (ipykernel)",
   "language": "python",
   "name": "python3"
  },
  "language_info": {
   "codemirror_mode": {
    "name": "ipython",
    "version": 3
   },
   "file_extension": ".py",
   "mimetype": "text/x-python",
   "name": "python",
   "nbconvert_exporter": "python",
   "pygments_lexer": "ipython3",
   "version": "3.9.13"
  }
 },
 "nbformat": 4,
 "nbformat_minor": 5
}
