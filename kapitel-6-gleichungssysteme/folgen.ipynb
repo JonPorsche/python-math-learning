{
 "cells": [
  {
   "cell_type": "code",
   "execution_count": null,
   "metadata": {
    "collapsed": true,
    "pycharm": {
     "is_executing": true
    }
   },
   "outputs": [],
   "source": [
    "# 01_schnittpunkt1.py\n",
    "import numpy as np\n",
    "import matplotlib.pyplot as plt\n",
    "from matplotlib.widgets import Slider\n",
    "\n",
    "fig, ax = plt.subplots(figsize=(8, 8))\n",
    "plt.title(r'$y_{1}=ax+b,\\  y_{2}=cx+d$')\n",
    "plt.xlabel('x')\n",
    "plt.ylabel('y', rotation=True)\n",
    "plt.subplots_adjust(left=0.12, bottom=0.26)\n",
    "plt.xlim(-10, 10)\n",
    "plt.ylim(-10, 10)\n",
    "plt.xticks(np.arange(-10, 11, 1))\n",
    "plt.yticks(np.arange(-10, 11, 1))\n",
    "x = np.arange(-10, 10, 0.001)\n",
    "\n",
    "\n",
    "# 1. Funktion\n",
    "def f1(x, a=1, b=1):\n",
    "    return a * x + b\n",
    "\n",
    "\n",
    "# 2. Funktion\n",
    "def f2(x, c=-1, d=5):\n",
    "    return c * x + d\n",
    "\n",
    "\n",
    "# Initialisierung\n",
    "y1, y2 = plt.plot(x, f1(x, 1, 1), x, f2(x, -1, 5), lw=1.5)\n",
    "# x-, y-Position, Laenge, Hoehe\n",
    "xyA = plt.axes([0.1, 0.15, 0.8, 0.03])\n",
    "xyB = plt.axes([0.1, 0.10, 0.8, 0.03])\n",
    "xyC = plt.axes([0.1, 0.05, 0.8, 0.03])\n",
    "xyD = plt.axes([0.1, 0.00, 0.8, 0.03])\n",
    "# Slider Objekte erzeugen\n",
    "sldA = Slider(xyA, 'a', -5.0, 5.0, valinit=1, valstep=0.1)\n",
    "sldB = Slider(xyB, 'b', -10.0, 10.0, valinit=1, valstep=0.1)\n",
    "sldC = Slider(xyC, 'c', -5.0, 5.0, valinit=-1, valstep=0.1)\n",
    "sldD = Slider(xyD, 'd', -10.0, 10.0, valinit=5, valstep=0.1)\n",
    "\n",
    "\n",
    "# neue Positionen berechnen\n",
    "def update(val):\n",
    "    a = sldA.val\n",
    "    b = sldB.val\n",
    "    c = sldC.val\n",
    "    d = sldD.val\n",
    "    y1.set_data(x, f1(x, a, b))\n",
    "    y2.set_data(x, f2(x, c, d))\n",
    "    # fig.canvas.draw_idle()\n",
    "\n",
    "\n",
    "# Änderungen abfragen\n",
    "sldA.on_changed(update)\n",
    "sldB.on_changed(update)\n",
    "sldC.on_changed(update)\n",
    "sldD.on_changed(update)\n",
    "ax.grid(True)\n",
    "plt.show()\n"
   ]
  },
  {
   "cell_type": "code",
   "execution_count": null,
   "outputs": [],
   "source": [],
   "metadata": {
    "collapsed": false,
    "pycharm": {
     "is_executing": true
    }
   }
  },
  {
   "cell_type": "code",
   "execution_count": null,
   "outputs": [],
   "source": [],
   "metadata": {
    "collapsed": false
   }
  }
 ],
 "metadata": {
  "kernelspec": {
   "display_name": "Python 3",
   "language": "python",
   "name": "python3"
  },
  "language_info": {
   "codemirror_mode": {
    "name": "ipython",
    "version": 2
   },
   "file_extension": ".py",
   "mimetype": "text/x-python",
   "name": "python",
   "nbconvert_exporter": "python",
   "pygments_lexer": "ipython2",
   "version": "2.7.6"
  }
 },
 "nbformat": 4,
 "nbformat_minor": 0
}
