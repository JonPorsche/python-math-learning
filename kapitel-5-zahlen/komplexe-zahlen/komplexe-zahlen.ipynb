{
 "cells": [
  {
   "cell_type": "markdown",
   "id": "c9e866cb",
   "metadata": {},
   "source": [
    "# Komplexe Zahlen in Python\n",
    "Um in Python mit komplexe Zahlen rechnen zu können, muss das Modul cmath importiert werden."
   ]
  },
  {
   "cell_type": "code",
   "execution_count": 17,
   "id": "e01e89cc",
   "metadata": {},
   "outputs": [
    {
     "data": {
      "text/plain": [
       "[-2 - 5*I, -2 + 5*I]"
      ]
     },
     "execution_count": 17,
     "metadata": {},
     "output_type": "execute_result"
    }
   ],
   "source": [
    "import math\n",
    "import cmath\n",
    "from sympy import *\n",
    "x = symbols('x')\n",
    "z = symbols('z')\n",
    "y=x**2+4*x+29\n",
    "solve(y,x)"
   ]
  },
  {
   "cell_type": "code",
   "execution_count": 6,
   "id": "e77eb9a2",
   "metadata": {},
   "outputs": [
    {
     "data": {
      "text/plain": [
       "(1.9+1.7j)"
      ]
     },
     "execution_count": 6,
     "metadata": {},
     "output_type": "execute_result"
    }
   ],
   "source": [
    "a = 4 + 7j\n",
    "b = 3 + 1j"
   ]
  },
  {
   "cell_type": "code",
   "execution_count": 7,
   "id": "50ddbea5",
   "metadata": {},
   "outputs": [
    {
     "data": {
      "text/plain": [
       "(7+8j)"
      ]
     },
     "execution_count": 7,
     "metadata": {},
     "output_type": "execute_result"
    }
   ],
   "source": [
    "a + b"
   ]
  },
  {
   "cell_type": "code",
   "execution_count": 8,
   "id": "c6ce6f2b",
   "metadata": {},
   "outputs": [
    {
     "data": {
      "text/plain": [
       "(1+6j)"
      ]
     },
     "execution_count": 8,
     "metadata": {},
     "output_type": "execute_result"
    }
   ],
   "source": [
    "a - b"
   ]
  },
  {
   "cell_type": "code",
   "execution_count": 9,
   "id": "ae8e8ab5",
   "metadata": {},
   "outputs": [
    {
     "data": {
      "text/plain": [
       "(5+25j)"
      ]
     },
     "execution_count": 9,
     "metadata": {},
     "output_type": "execute_result"
    }
   ],
   "source": [
    "a * b"
   ]
  },
  {
   "cell_type": "code",
   "execution_count": 10,
   "id": "8ddd9755",
   "metadata": {},
   "outputs": [
    {
     "data": {
      "text/plain": [
       "(1.9+1.7j)"
      ]
     },
     "execution_count": 10,
     "metadata": {},
     "output_type": "execute_result"
    }
   ],
   "source": [
    "a / b"
   ]
  },
  {
   "cell_type": "code",
   "execution_count": 16,
   "id": "ec6191b5",
   "metadata": {},
   "outputs": [
    {
     "data": {
      "text/plain": [
       "1j"
      ]
     },
     "execution_count": 16,
     "metadata": {},
     "output_type": "execute_result"
    }
   ],
   "source": [
    "x = -1\n",
    "cmath.sqrt(x)"
   ]
  },
  {
   "cell_type": "code",
   "execution_count": 20,
   "id": "a863aa7c",
   "metadata": {},
   "outputs": [
    {
     "data": {
      "text/plain": [
       "(-0-2j)"
      ]
     },
     "execution_count": 20,
     "metadata": {},
     "output_type": "execute_result"
    }
   ],
   "source": [
    "-cmath.sqrt(-4)"
   ]
  },
  {
   "cell_type": "code",
   "execution_count": 21,
   "id": "73af7ed6",
   "metadata": {},
   "outputs": [
    {
     "data": {
      "text/plain": [
       "(-1+0j)"
      ]
     },
     "execution_count": 21,
     "metadata": {},
     "output_type": "execute_result"
    }
   ],
   "source": [
    "1j*1j"
   ]
  },
  {
   "cell_type": "code",
   "execution_count": 22,
   "id": "6b3d43c6",
   "metadata": {},
   "outputs": [
    {
     "data": {
      "text/plain": [
       "(-1+0j)"
      ]
     },
     "execution_count": 22,
     "metadata": {},
     "output_type": "execute_result"
    }
   ],
   "source": [
    "1j**2"
   ]
  }
 ],
 "metadata": {
  "kernelspec": {
   "display_name": "Python 3 (ipykernel)",
   "language": "python",
   "name": "python3"
  },
  "language_info": {
   "codemirror_mode": {
    "name": "ipython",
    "version": 3
   },
   "file_extension": ".py",
   "mimetype": "text/x-python",
   "name": "python",
   "nbconvert_exporter": "python",
   "pygments_lexer": "ipython3",
   "version": "3.9.13"
  }
 },
 "nbformat": 4,
 "nbformat_minor": 5
}
